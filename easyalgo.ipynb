{
 "cells": [
  {
   "cell_type": "markdown",
   "id": "70b21c65-afe6-4c89-95c0-3cc28848ebfc",
   "metadata": {},
   "source": [
    "# Простые алгоритмы\n",
    "### Проверка последовательности чисел на наличие элемента с заданными свойствами и на соответствие всех элементов заданному свойству.\n",
    "слишком изи и нет конкретики\n",
    "### Однопроходные алгоритмы обработки последовательности: подсчёт, сумма, произведение."
   ]
  },
  {
   "cell_type": "code",
   "execution_count": null,
   "id": "32cd212a-0f43-40d4-bdf5-0fc53b9e405a",
   "metadata": {},
   "outputs": [],
   "source": [
    "x = int(input())\n",
    "summa = 0\n",
    "while x != 0:\n",
    "    summa += x          # или count += 1, или pr *= x\n",
    "    x = int(input())\n",
    "print(summa)"
   ]
  },
  {
   "cell_type": "markdown",
   "id": "a20b9057-3f83-46ca-a0b7-04332ce04bd1",
   "metadata": {},
   "source": [
    "### Поиск максимума и подсчёт количества элементов, равных максимальному."
   ]
  },
  {
   "cell_type": "code",
   "execution_count": null,
   "id": "82e5cbbe-d969-4baf-bada-3b91fd973e6e",
   "metadata": {},
   "outputs": [],
   "source": [
    "x = int(input())\n",
    "maximum = x\n",
    "count = 1\n",
    "while x != 0:\n",
    "    if x == maximum:\n",
    "        count += 1\n",
    "    elif x > maximum:\n",
    "        maximum = x\n",
    "        count = 1\n",
    "    x = int(input())\n",
    "\n",
    "print(maximum, count)"
   ]
  },
  {
   "cell_type": "markdown",
   "id": "09103c26-1bd7-4d08-aa45-1e6aa92d4a6c",
   "metadata": {},
   "source": [
    "### Нахождение трёх максимальных элементов в последовательности за один проход."
   ]
  },
  {
   "cell_type": "code",
   "execution_count": null,
   "id": "c559346c-ec06-4f47-8e8b-21ed8d43b413",
   "metadata": {},
   "outputs": [],
   "source": [
    "max1 = max2 = max3 = float('-inf')\n",
    "x = int(input())\n",
    "while x != 0:\n",
    "    if x> max1:\n",
    "        max1, max2, max3 = x, max1, max2\n",
    "    elif x > max2:\n",
    "        max2, max3 = x, max2\n",
    "    elif x > max3:\n",
    "        max3 = x\n",
    "    x = int(input())\n",
    "\n",
    "print(max1, max2, max3)"
   ]
  },
  {
   "cell_type": "markdown",
   "id": "e9af9469-8bad-490b-a148-a5c06f96fcf5",
   "metadata": {},
   "source": [
    "### Поиск местоположения максимума в последовательности за один проход.\n",
    "пох изи\n",
    "### Системы счисления. Перевод из одной системы счисления в другую.\n",
    "\n",
    "**Система счисления майя** основывалась на 20-ричной системе счисления.\n",
    "\n",
    "Разряд формируется следующим образом. Для записи нуля использовалась ракушка \"@\". Для конструирования числа разряда использовались точки \".\", и палочки \"|\". Точка добавляла к числу разряда 1, а палочка 5. Например, число 13 помещается в один разряд и выглядит следующим образом: \"...||\" = 3 + 2*5.\n",
    "\n",
    "Для отделения разрядов мы воспользуемся пробелом.\n",
    "\n",
    "Вам предстоит считать число майя и перевести его в десятичную систему счисления."
   ]
  },
  {
   "cell_type": "code",
   "execution_count": 17,
   "id": "ab0c45ef-9fc4-447f-9b00-bc8fafcbaddb",
   "metadata": {},
   "outputs": [
    {
     "name": "stdin",
     "output_type": "stream",
     "text": [
      " . @ ...|\n"
     ]
    },
    {
     "name": "stdout",
     "output_type": "stream",
     "text": [
      "408\n"
     ]
    }
   ],
   "source": [
    "m = input()\n",
    "n = 0\n",
    "s = []\n",
    "for i in m:\n",
    "    if i == '@':\n",
    "        n = 0\n",
    "    elif i == '.':\n",
    "        n += 1\n",
    "    elif i == '|':\n",
    "        n += 5\n",
    "    elif i == ' ':\n",
    "        s.append(n)\n",
    "        n = 0\n",
    "\n",
    "s.append(n)\n",
    "n = 0\n",
    "\n",
    "for j in range(len(s)):\n",
    "    n += s[j]*(20**(len(s)-j-1))\n",
    "print(n)"
   ]
  },
  {
   "cell_type": "markdown",
   "id": "55df8d7b-7ce4-4421-bd5a-ab29ec2ad39c",
   "metadata": {},
   "source": [
    "В **вавилонской системе счисления** для записи чисел внутри 60-ричного разряда использовались всего два знака: стоячий клин \"v\" (латинская строчная v) для обозначения единиц и лежачий клин \"<\" (знак строго меньше) для обозначения десятков. Для формирования разряда сначала выписывалось количество десятков, а затем количество единиц. Разряды вавилоняне разделяли пустым пространством, однако мы будем использовать для этого точку \".\". Если какой-то разряд отсутствовал, на его месте ничего не писалось. Требуется перевести записанное в вавилонской системе число в десятичную систему счисления."
   ]
  },
  {
   "cell_type": "code",
   "execution_count": 19,
   "id": "8126fd29-9070-46e2-b538-89dd46dc23f7",
   "metadata": {},
   "outputs": [
    {
     "name": "stdin",
     "output_type": "stream",
     "text": [
      " vv..<<<vvvvv\n"
     ]
    },
    {
     "name": "stdout",
     "output_type": "stream",
     "text": [
      "7235\n"
     ]
    }
   ],
   "source": [
    "s = input()\n",
    "n = 0\n",
    "result = 0\n",
    "razr = s.count('.')\n",
    "for i in s:\n",
    "    if i == '<':\n",
    "        n += 10\n",
    "    elif i == 'v':\n",
    "        n += 1\n",
    "    else:\n",
    "        result += n*(60**razr)\n",
    "        razr -= 1\n",
    "        n = 0\n",
    "result += n*(60**razr)\n",
    "print(result)"
   ]
  },
  {
   "cell_type": "code",
   "execution_count": 20,
   "id": "1282f9d6-ce88-450f-b715-fc6dcf19b825",
   "metadata": {},
   "outputs": [
    {
     "name": "stdin",
     "output_type": "stream",
     "text": [
      " 7235\n"
     ]
    },
    {
     "name": "stdout",
     "output_type": "stream",
     "text": [
      "vv..<<<vvvvv\n"
     ]
    }
   ],
   "source": [
    "n = int(input())\n",
    "s = []\n",
    "while n != 0:\n",
    "    s.append(n%60)\n",
    "    n = n//60\n",
    "\n",
    "s1 = s[::-1]\n",
    "\n",
    "for i in s1[:-1]:\n",
    "    print((i//10)*'<'+(i%10)*'v'+'.', end='')\n",
    "print((s1[-1]//10)*'<'+(s1[-1]%10)*'v')"
   ]
  },
  {
   "cell_type": "code",
   "execution_count": 28,
   "id": "c9ab5a21-913b-4943-976a-cb1244e94143",
   "metadata": {},
   "outputs": [
    {
     "name": "stdin",
     "output_type": "stream",
     "text": [
      " 8\n"
     ]
    },
    {
     "name": "stdout",
     "output_type": "stream",
     "text": [
      "0b1000\n",
      "1000\n",
      "1000\n"
     ]
    }
   ],
   "source": [
    "# перевод из 10чной в 2чную\n",
    "\n",
    "n = int(input())\n",
    "print(bin(n))\n",
    "print(bin(n)[2:])\n",
    "\n",
    "\n",
    "\n",
    "a = ''\n",
    "while n > 0:\n",
    "    a = str(n % 2) + a\n",
    "    n = n // 2\n",
    "print(a)"
   ]
  },
  {
   "attachments": {
    "10781e67-f271-4782-a421-266a64c605fd.png": {
     "image/png": "[encoded data removed]"
    }
   },
   "cell_type": "markdown",
   "id": "4ba7c8b2-d18b-4d88-b3cc-17ec80856bc1",
   "metadata": {},
   "source": [
    "Перевести число из него-десятичной системы счисления в десятичную.\n",
    "![image.png](attachment:10781e67-f271-4782-a421-266a64c605fd.png)"
   ]
  },
  {
   "cell_type": "code",
   "execution_count": 29,
   "id": "ab52977f-780e-46d6-9164-ba9566a1ba7e",
   "metadata": {},
   "outputs": [
    {
     "name": "stdin",
     "output_type": "stream",
     "text": [
      " 174\n"
     ]
    },
    {
     "name": "stdout",
     "output_type": "stream",
     "text": [
      "34\n"
     ]
    }
   ],
   "source": [
    "number = input()\n",
    "n = len(number)\n",
    "result = 0\n",
    "for i in range(n):\n",
    "    s = int(number[i])*(10**(n-i-1))\n",
    "    if i < n:\n",
    "        if (n-i-1) % 2 == 0:\n",
    "            result += s\n",
    "        else:\n",
    "            result -= s\n",
    "print(result)"
   ]
  },
  {
   "cell_type": "markdown",
   "id": "cbb5f63c-3f80-4cc1-b640-d8136dba97a0",
   "metadata": {},
   "source": [
    "### Проверка простоты числа. Метод грубой силы."
   ]
  },
  {
   "cell_type": "code",
   "execution_count": 31,
   "id": "eb62d188-0217-442c-93a9-4da8eb99e443",
   "metadata": {},
   "outputs": [
    {
     "name": "stdin",
     "output_type": "stream",
     "text": [
      " 5\n"
     ]
    },
    {
     "name": "stdout",
     "output_type": "stream",
     "text": [
      "1\n"
     ]
    }
   ],
   "source": [
    "# Вывести 1 - число простое, 0 - число составное.\n",
    "\n",
    "def is_simple(a:int) -> int:\n",
    "    if type(a) is not int or a < 2:\n",
    "        return 0\n",
    "\n",
    "    for i in range(2, a):\n",
    "        if a % i == 0:\n",
    "            return 0\n",
    "    return 1\n",
    "\n",
    "print(is_simple(int(input())))"
   ]
  },
  {
   "cell_type": "markdown",
   "id": "ea146e78-89b2-4edd-a51e-2bb0421bd60f",
   "metadata": {},
   "source": [
    "### Разложение числа на множители - факторизация."
   ]
  },
  {
   "cell_type": "code",
   "execution_count": 32,
   "id": "611e35e6-25ae-4eae-a84c-e6e261c42613",
   "metadata": {},
   "outputs": [
    {
     "name": "stdin",
     "output_type": "stream",
     "text": [
      " 12\n"
     ]
    },
    {
     "name": "stdout",
     "output_type": "stream",
     "text": [
      "2\n",
      "2\n",
      "3\n"
     ]
    }
   ],
   "source": [
    "a = int(input())\n",
    "d = 2\n",
    "while d < a:\n",
    "    if a % d == 0:\n",
    "        print(d)\n",
    "        a //= d\n",
    "    else:\n",
    "        d += 1\n",
    "print(a)"
   ]
  },
  {
   "cell_type": "markdown",
   "id": "042f9882-82a8-4d03-a9c2-402b026874f0",
   "metadata": {},
   "source": [
    "### Алгоритм Евклида нахождения НОД."
   ]
  },
  {
   "cell_type": "code",
   "execution_count": 30,
   "id": "a49f8d77-7788-48df-910f-93870402128c",
   "metadata": {},
   "outputs": [
    {
     "name": "stdin",
     "output_type": "stream",
     "text": [
      " 3\n",
      " 5\n"
     ]
    },
    {
     "name": "stdout",
     "output_type": "stream",
     "text": [
      "1\n"
     ]
    }
   ],
   "source": [
    "a = int(input())\n",
    "b = int(input())\n",
    "while a != 0 and b != 0:\n",
    "    if a > b:\n",
    "        a = a % b\n",
    "    else:\n",
    "        b = b % a\n",
    "print(a + b)"
   ]
  },
  {
   "cell_type": "markdown",
   "id": "d55199ae-f719-4e70-a3a6-f6258ed9f665",
   "metadata": {},
   "source": [
    "### Вычисление чисел Фибоначчи."
   ]
  },
  {
   "cell_type": "code",
   "execution_count": 42,
   "id": "ba77c56a-945c-48ae-acff-3eac75268ef9",
   "metadata": {},
   "outputs": [
    {
     "name": "stdin",
     "output_type": "stream",
     "text": [
      " 7\n"
     ]
    },
    {
     "data": {
      "text/plain": [
       "13"
      ]
     },
     "execution_count": 42,
     "metadata": {},
     "output_type": "execute_result"
    }
   ],
   "source": [
    "# вывод Nого числа из последовательности Фибоначи\n",
    "\n",
    "def fib(N):\n",
    "    a = b = 1\n",
    "    for i in range(N-2):\n",
    "        a, b = b, a+b\n",
    "    return b\n",
    "\n",
    "fib(int(input()))"
   ]
  },
  {
   "cell_type": "markdown",
   "id": "ede31d09-3f5b-4257-ad6d-c69424947dc5",
   "metadata": {},
   "source": [
    "### Наивный поиск подстроки в строке. Реализация без использования стандартных методов str."
   ]
  },
  {
   "cell_type": "code",
   "execution_count": null,
   "id": "56d21316-ade1-4181-a77c-8fba91bc1a71",
   "metadata": {},
   "outputs": [],
   "source": [
    "def naive_string_search(text, pattern):\n",
    "    n = len(text)\n",
    "    m = len(pattern)\n",
    "\n",
    "    # Проходим по всем возможным начальным индексам\n",
    "    for i in range(n - m + 1):\n",
    "        # Проверяем совпадение подстроки\n",
    "        j = 0\n",
    "        while j < m and text[i + j] == pattern[j]:\n",
    "            j += 1\n",
    "        # Если j равно длине паттерна, значит, подстрока найдена\n",
    "        if j == m:\n",
    "            return i  # Возвращаем индекс начала подстроки\n",
    "\n",
    "    return -1  # Если подстрока не найдена"
   ]
  },
  {
   "cell_type": "markdown",
   "id": "d7b65503-ae2f-49ee-9bc2-776c32a7e76a",
   "metadata": {},
   "source": [
    "### Задача о количестве траекторий Кузнечика на числовой прямой."
   ]
  },
  {
   "cell_type": "code",
   "execution_count": 43,
   "id": "ee3926dc-f7ad-4d4b-8656-5e70027b6668",
   "metadata": {},
   "outputs": [],
   "source": [
    "# кузнечик прыгает по листочкам: или на следующий, или через один\n",
    "# сколькими способами он доберется до n листочка?  ---  f(n) = f(n-1) + f(n-2)\n",
    "# добавим мнимый листочек (0 способов добраться) -> числа Фибоначи\n",
    "\n",
    "# рекурсия кэшированием\n",
    "\n",
    "# 1\n",
    "cache = [0, 1]\n",
    "def grass_1(N:int) -> int:\n",
    "    if N < len(cache): return cache[N]\n",
    "    res = grass_1(N-1) + grass_1(N-2)\n",
    "    cache.append(res)\n",
    "    return cache[N]\n",
    "\n",
    "# 2\n",
    "def grass_2(N:int) -> int:\n",
    "    A = [0, 1]\n",
    "    for i in range(2, N+1):\n",
    "        A.append(A[i-1] + A[i-2])\n",
    "    retuurn(A[N])\n",
    "\n",
    "# 3\n",
    "def grass_3(N:int) -> int:\n",
    "    A = [0] * (N+3)\n",
    "    A[1] = 1    \n",
    "    for i in range(1, N):\n",
    "        A[i+1] += A[i]\n",
    "        A[i+2] += A[i]\n",
    "    return A[N]"
   ]
  },
  {
   "cell_type": "markdown",
   "id": "6d2de983-3e67-4b33-b556-d7bf191d84e4",
   "metadata": {},
   "source": [
    "### Проверки корректности скобочной последовательности с помощью стека.\n",
    "\n",
    "\n",
    "# проверить и переделать"
   ]
  },
  {
   "cell_type": "code",
   "execution_count": 48,
   "id": "235d1140-50ba-4146-a73a-a39e143bacad",
   "metadata": {},
   "outputs": [
    {
     "name": "stdin",
     "output_type": "stream",
     "text": [
      " (\n"
     ]
    }
   ],
   "source": [
    "stack = []\n",
    "data = input()\n",
    "for c in data:\n",
    "    if c in '([{':\n",
    "        stack.append(c)\n",
    "    if c in ')]}':\n",
    "        if len(stack) == 0: break\n",
    "        if stack.pop() + c not in '()[]{}': break\n",
    "    else:\n",
    "        if len(stack) == 0:\n",
    "            print('OK')"
   ]
  },
  {
   "cell_type": "markdown",
   "id": "09814bd2-fe6d-4a3f-9b02-c79c3ea2397a",
   "metadata": {},
   "source": [
    "### Сортировка подсчётом. Оценка временной сложности алгоритма."
   ]
  },
  {
   "cell_type": "code",
   "execution_count": null,
   "id": "1e6eee1f-8f0f-45d4-86cd-073a787c66f2",
   "metadata": {},
   "outputs": [],
   "source": [
    "arr = [int(s) for s in input().split()]\n",
    "\n",
    "def counting_sort(arr):\n",
    "    keys = [0] * 10\n",
    "    for i in range(len(arr)):\n",
    "        s = arr[i]\n",
    "        keys[s] += 1\n",
    "        print(*keys)\n",
    "    for j in range(10):\n",
    "        k = keys[j]\n",
    "        for l in range(k):\n",
    "            print(j, end=' ')\n",
    "        \n",
    "counting_sort(arr)"
   ]
  },
  {
   "cell_type": "markdown",
   "id": "debfca1a-8e8b-41fb-938a-e60d183fa809",
   "metadata": {},
   "source": [
    "### Алгоритм обращения чисел в массиве. Реализация циклом, без срезов."
   ]
  },
  {
   "cell_type": "code",
   "execution_count": 54,
   "id": "a6632713-89ce-4e76-9079-1a93926d525d",
   "metadata": {},
   "outputs": [
    {
     "name": "stdout",
     "output_type": "stream",
     "text": [
      "Исходный массив: [1, 2, 3, 4, 5]\n"
     ]
    },
    {
     "data": {
      "text/plain": [
       "[5, 4, 3, 2, 1]"
      ]
     },
     "execution_count": 54,
     "metadata": {},
     "output_type": "execute_result"
    }
   ],
   "source": [
    "def reverse_array(arr:list, N):\n",
    "    for i in range((N//2)):\n",
    "        arr[i], arr[N-i-1] = arr[N-i-1], arr[i]\n",
    "    return arr\n",
    "\n",
    "# Пример использования\n",
    "array = [1, 2, 3, 4, 5]\n",
    "print(\"Исходный массив:\", array)\n",
    "\n",
    "reverse_array(array, len(array))\n",
    "#print(\"Обращенный массив:\", array)"
   ]
  },
  {
   "cell_type": "markdown",
   "id": "d87d2f79-53d9-4ab8-9418-9d5917e59dff",
   "metadata": {},
   "source": [
    "### Алгоритм циклического сдвига в массиве. Реализация циклом, без срезов."
   ]
  },
  {
   "cell_type": "code",
   "execution_count": 51,
   "id": "f0878517-21b4-4378-adf3-717707af529b",
   "metadata": {},
   "outputs": [
    {
     "data": {
      "text/plain": [
       "[2, 3, 4, 5, 1]"
      ]
     },
     "execution_count": 51,
     "metadata": {},
     "output_type": "execute_result"
    }
   ],
   "source": [
    "def cycle_shift(arr:list, N):\n",
    "    first = arr[0]\n",
    "    for i in range(N-1):\n",
    "        arr[i] = arr[i+1]\n",
    "    arr[-1] = first\n",
    "\n",
    "    return arr\n",
    "\n",
    "cycle_shift([1, 2, 3, 4, 5], 5)"
   ]
  },
  {
   "cell_type": "markdown",
   "id": "aa45f26d-4948-4bcd-98a3-14cf756ccd22",
   "metadata": {},
   "source": [
    "### Задача упорядочивания элементов в массиве. Проверка упорядоченности массива за O(N)."
   ]
  },
  {
   "cell_type": "code",
   "execution_count": 56,
   "id": "e5e97f2b-fb9c-4929-80f9-14ce9fc6822b",
   "metadata": {},
   "outputs": [
    {
     "data": {
      "text/plain": [
       "False"
      ]
     },
     "execution_count": 56,
     "metadata": {},
     "output_type": "execute_result"
    }
   ],
   "source": [
    "def is_sorted(A:list) -> bool:\n",
    "    for i in range(len(A) - 1):\n",
    "        if A[i] > A[i + 1]:\n",
    "            return False\n",
    "    return True\n",
    "\n",
    "is_sorted([5, 4, 3, 8, 3])"
   ]
  },
  {
   "cell_type": "code",
   "execution_count": null,
   "id": "9f51cf95-d3d2-473a-9209-86506a2c85e9",
   "metadata": {},
   "outputs": [],
   "source": [
    "#решето эратосфена\n",
    "\n",
    "def eratosfen(N:int):\n",
    "    a = []\n",
    "    for i in range(N+1):\n",
    "        a.append(True)\n",
    "    a[0] = a[1] = False\n",
    "    for i in range(4, N+1, 2):\n",
    "        a[i] = False\n",
    "    for i in range(3, N+1, 2):\n",
    "        if a[i]:\n",
    "            for j in range(pow(i, 2), N+1, i):\n",
    "                a[j] = False\n",
    "    for i in range(N+1):\n",
    "        if a[i]:\n",
    "            print(i, end=' ')\n",
    "    return\n",
    "\n",
    "eratosfen(int(input()))"
   ]
  }
 ],
 "metadata": {
  "kernelspec": {
   "display_name": "Python 3 (ipykernel)",
   "language": "python",
   "name": "python3"
  },
  "language_info": {
   "codemirror_mode": {
    "name": "ipython",
    "version": 3
   },
   "file_extension": ".py",
   "mimetype": "text/x-python",
   "name": "python",
   "nbconvert_exporter": "python",
   "pygments_lexer": "ipython3",
   "version": "3.11.9"
  }
 },
 "nbformat": 4,
 "nbformat_minor": 5
}
