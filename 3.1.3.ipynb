{
 "cells": [
  {
   "cell_type": "markdown",
   "id": "de42b584-23bd-48e1-bba3-0436c7cde928",
   "metadata": {},
   "source": [
    "## Лабораторная работа 3.1.3\n",
    "## Измерение магнитного поля Земли\n",
    "\n",
    "**Цель работы:** исследовать свойства постоянных неодимовых магнитов; измерить с их помощью горизонтальную и вертикальную составляющие индукции магнитного поля Земли и магнитное наклонение. \n",
    "\n",
    "**В работе используются** неодимовыемагниты;тонкаянитьдляизготов ления крутильного маятника; медная проволока; электронные весы; секун домер; измеритель магнитной индукции; штангенциркуль; брусок, линейка и штатив из немагнитных материалов; набор гирь и разновесов.\n",
    "\n",
    "### Свойства точечного магнитного диполя\n",
    "Простейший магнитный диполь может быть образован витком с током или постоянным магнитом. По определению, магнитный момент $P_m$ тонкого витка площадью $S$ с током $I$ равен (в системе СИ) \n",
    "$$P_m = SI \\tag{1}$$\n",
    "Магнитное поле точечного диполя определяется по формуле, аналогичной формуле для поля элементарного электрического диполя: \n",
    "$$B_{дип} = \\frac{\\mu _0}{4\\pi} (\\frac{3(P_m \\cdot r)r}{r^5} - \\frac{P_m}{r^3}) \\tag{2}$$ (здесь $\\frac{\\mu _0}{4\\pi} = 10^{−7} \\: Гн/м$).\n",
    "Во внешнем магнитном поле с индукцией $B$ на точечный магнитный диполь $P_m$ действует механический момент сил $$\\mathcal{M} = [P_m \\times B] \\tag{3}$$\n",
    "При этом потенциальная энергия, которой обладает диполь с постоянным $P_m$, равна $$W = −(P_m·B) \\tag{4}$$\n",
    "\n",
    "**Замечание:** В системе СГС формулы (1), (2) имеют соответственно вид $$P_m = \\frac{1}{c}IS, \\: B = \\frac{3(P_m \\cdot r)r}{r^5} - \\frac{P_m}{r^3}$$ Формулы (3) и (4) в СИ и СГС совпадают.\n",
    "\n",
    "В *неоднородном* внешнем поле выражение для энергии постоянного диполя (4) сохраняется. При этом кроме момента сил на диполь действует ещё и сила \n",
    "$$F = −∇W = (P_m·∇)B \\tag{5}$$\n",
    "Таким образом, из (3)—(5) следует, что свободный магнитный диполь в неоднородном магнитном поле ориентируется вдоль силовых линий магнитного поля и втягивается в область более сильного поля, поскольку это ведёт к уменьшению энергии диполя. Выражения (2) и (5) позволяют рассчитать силу взаимодействия маг нитов с моментами $P_{m_1}$ и $P_{m_2}$ в рамках модели точечных диполей. В частном случае, когда моменты двух небольших магнитов направлены вдоль соединяющей их прямой: $P_{m_{1,2}}$ ‖ $r$, где $r$ — радиус-вектор между ними, магниты взаимодействуют с силой \n",
    "$$F_{12} = P_{m_1} \\frac{\\partial B_2}{\\partial r} = P_{m_1} \\frac{\\partial (2P_{m_2}/r^3)}{\\partial r} = −\\frac{6P_{m_1}P_{m_2}}{r^4} \\: (ед. СГС) \\tag{6}$$\n",
    "\n",
    "### Экспериментальная установка\n",
    "В работе используются неодимовые магниты шарообразной формы. Для проведения эксперимента важно, что а) вещество, из которого изготовлены магниты, является магнитожёстким материалом; б) шары намагничены однородно. \n",
    "\n",
    "Магнитное поле однородно намагниченного шара радиусом $R$ может быть вычислено точно. На расстояниях $r ≥ R$ от центра шара оно совпа дает с полем точечного магнитного диполя (2), расположенного в центре, магнитный момент m которого совпадает с полным моментом шара. Внутри шара магнитное поле однородно: c помощью формулы (2) и условия непрерывности нормальной компоненты индукции на поверхности шара нетрудно получить, что при $r < R$ \n",
    "$$B_0 = \\frac{\\mu_0 P_m}{2\\pi R^3} \\tag{7}$$ (в ед. СГС $B_0 = \\frac{2P_m}{R^3}$).\n",
    "\n",
    "В качестве ещё одной характеристики материала магнита используют остаточную намагниченность $p_m$. По определению, намагниченность равна объёмной плотности магнитного момента, поэтому для однородно намагниченного шара $$P_m = p_mV \\tag{8}$$ Величину $B_r = \\mu_0 p_m$ называют *остаточной индукцией материала* (в ед. СГС $B_r = 4\\pi p_m$). Из (2) нетрудно видеть, что индукция $B_p$ *на полюсах* однородно на магниченного шара направлена по нормали к поверхности и совпадает поэтому с индукцией внутри шара $B_p = B_0$. Как следует из (7), величина $B_p$ связана с остаточной индукцией $B_r$ соотношением $$B_p = B_0 = \\frac{2}{3}B_r \\tag{9}$$\n",
    "\n",
    "### Задания\n",
    "#### Задание №1 Определение магнитного момента, намагниченности и остаточной магнитной индукции вещества магнитных шариков\n",
    "#### Метод А\n",
    "1. Взвесим и измерим диаметр шарика: $d = 5.71 \\pm 0.1$ мм, $m_1 = 0.817 \\pm 0.001$ г\n",
    "2. Между двумя магнитными шариками подложим \"брусок\" из бумаги и измерим максимальную толщину, при которой шарики будут удерживать друг друга в поле тяжести Земли: $h = 16.2 \\pm 0.1$ мм - максимальная толщина слоя из бумаги, на которой удерживаются шарики\n",
    "   $r_{max} = h + d = 16.2 + 5.71 = 21.91 \\pm 0.1$ мм\n",
    "3. Рассчитаем величину магнитного момента через $\\frac{6P_m^2}{r_{max}^4} = mg$\n",
    "\n",
    "   $P_m = \\sqrt{\\frac{mgr_{max}^4}{6}} = \\sqrt{\\frac{0.817г*980 \\frac{см}{с^2}*2.191см^4}{6}} = 55,45 \\pm 0,13 \\: \\frac{Эрг}{Гс}$\n",
    "4. Рассчитаем величину намагниченности материала шариков: $p_m = \\frac{P_m}{V} = \\frac{P_m}{\\frac{4}{3}\\pi r^3} = \\frac{55,45 \\: Эрг/Гс}{\\frac{4}{3}\\pi *0,2855см^3} = 569,13 \\pm 0,24 \\: \\frac{Эрг}{Гс*см^3}$ \n",
    "5. Рассчитаем величину магнитного поля на полюсах шариков: $B_p = \\frac{2}{3}B_r = \\frac{2}{3} 4\\pi p_m = \\frac{2}{3} 4\\pi *569,13 = 4,766 \\pm 0.64 \\: кГс$ \n",
    "6. Рассчитаем величину остаточной магнитной индукции материала: $B_r = 4\\pi p_m = 4\\pi *569,13 = 7,148 \\pm 0.96 \\: кГс$ \n",
    "\n",
    "Табличное значение $B_r$ для соединения неодим-железо-бор 10,8 - 13,8 кГс. Наши данные оказались близки к табличным.\n",
    "   \n",
    "#### Метод В\n",
    "7. Найдём предельную массу цепочки с гирей, при которой она рвётся: $m$ = 366.901 г\n",
    "8. Вес этой цепочки: $F = mg = 366.901г*980 \\frac{см}{с} = 359,56 \\pm 0.001 \\: кдин$\n",
    "9. Сила сцепления двух шаров: $F_0 = \\frac{F}{1.08} = \\frac{359,56 кдин}{1.08} = 332,93 \\pm 0.001 \\: кдин$\n",
    "10. Определим магнитный момент через $F_0 = \\frac{6P_m^2}{d^4}$\n",
    "    \n",
    "    $P_m = \\sqrt{\\frac{F_0d^4}{6}} = \\sqrt{\\frac{332930 дин*(0.571 см)^4}{6}} = 76,80 \\pm 0.001 \\: \\frac{Эрг}{Гс}$\n",
    "\n",
    "С пунктом А $P_m$, измеренное в пункте Б, практически совпало. В дальнейшем будем считать $P_m = 76,80 \\: \\frac{Эрг}{Гс}$\n",
    "\n",
    "#### Задание №2 Определение горизонтальной составляющей магнитного поля Земли\n",
    "Соберём установку для измерения горизонтальной составляющей магнитного поля Земли. Перед непосредственным измерение проверим, можно ли пренебречь упругостью нити при измерении периода колебаний. Для этого сделаем из шариков кольцо, чтобы магнитный момент был нулевым, и посмотрим на его период колебаний.\n",
    "\n",
    "Период колебаний 12 шариков в кольце $T_к$ = 10.07 с.\n",
    "\n",
    "Период колебаний 12 шариков в \"стрелке\" $Т_c$ = 4.04 с.\n",
    "\n",
    "$T_к \\gg T_с$ - Большой период колебаний указывает на то, что упругостью можно пренебречь.\n",
    "\n",
    "Результаты измерения колебаний для стрелки с разным количеством шаров:"
   ]
  },
  {
   "cell_type": "code",
   "execution_count": 38,
   "id": "d6b4e749-a831-4d0b-b5f8-7ba8a877790a",
   "metadata": {},
   "outputs": [
    {
     "data": {
      "text/html": [
       "<div>\n",
       "<style scoped>\n",
       "    .dataframe tbody tr th:only-of-type {\n",
       "        vertical-align: middle;\n",
       "    }\n",
       "\n",
       "    .dataframe tbody tr th {\n",
       "        vertical-align: top;\n",
       "    }\n",
       "\n",
       "    .dataframe thead th {\n",
       "        text-align: right;\n",
       "    }\n",
       "</style>\n",
       "<table border=\"1\" class=\"dataframe\">\n",
       "  <thead>\n",
       "    <tr style=\"text-align: right;\">\n",
       "      <th></th>\n",
       "      <th>n, кол-во шариков</th>\n",
       "      <th>T, с</th>\n",
       "    </tr>\n",
       "  </thead>\n",
       "  <tbody>\n",
       "    <tr>\n",
       "      <th>0</th>\n",
       "      <td>12</td>\n",
       "      <td>4.040</td>\n",
       "    </tr>\n",
       "    <tr>\n",
       "      <th>1</th>\n",
       "      <td>11</td>\n",
       "      <td>3.490</td>\n",
       "    </tr>\n",
       "    <tr>\n",
       "      <th>2</th>\n",
       "      <td>10</td>\n",
       "      <td>3.050</td>\n",
       "    </tr>\n",
       "    <tr>\n",
       "      <th>3</th>\n",
       "      <td>9</td>\n",
       "      <td>2.790</td>\n",
       "    </tr>\n",
       "    <tr>\n",
       "      <th>4</th>\n",
       "      <td>8</td>\n",
       "      <td>2.440</td>\n",
       "    </tr>\n",
       "    <tr>\n",
       "      <th>5</th>\n",
       "      <td>7</td>\n",
       "      <td>2.265</td>\n",
       "    </tr>\n",
       "    <tr>\n",
       "      <th>6</th>\n",
       "      <td>6</td>\n",
       "      <td>1.800</td>\n",
       "    </tr>\n",
       "    <tr>\n",
       "      <th>7</th>\n",
       "      <td>5</td>\n",
       "      <td>1.520</td>\n",
       "    </tr>\n",
       "    <tr>\n",
       "      <th>8</th>\n",
       "      <td>4</td>\n",
       "      <td>1.370</td>\n",
       "    </tr>\n",
       "    <tr>\n",
       "      <th>9</th>\n",
       "      <td>3</td>\n",
       "      <td>0.970</td>\n",
       "    </tr>\n",
       "  </tbody>\n",
       "</table>\n",
       "</div>"
      ],
      "text/plain": [
       "   n, кол-во шариков   T, с\n",
       "0                 12  4.040\n",
       "1                 11  3.490\n",
       "2                 10  3.050\n",
       "3                  9  2.790\n",
       "4                  8  2.440\n",
       "5                  7  2.265\n",
       "6                  6  1.800\n",
       "7                  5  1.520\n",
       "8                  4  1.370\n",
       "9                  3  0.970"
      ]
     },
     "execution_count": 38,
     "metadata": {},
     "output_type": "execute_result"
    }
   ],
   "source": [
    "import numpy as np\n",
    "import pandas as pd\n",
    "from pandas.api.types import is_numeric_dtype\n",
    "\n",
    "import matplotlib.pyplot as plt\n",
    "import seaborn as sns\n",
    "\n",
    "data1 = pd.read_csv('3_1_3.csv')\n",
    "data1"
   ]
  },
  {
   "cell_type": "code",
   "execution_count": 39,
   "id": "e058c719-cc4a-46b6-ae68-0f0dbac92314",
   "metadata": {},
   "outputs": [
    {
     "data": {
      "image/png": "[encoded data removed]",
      "text/plain": [
       "<Figure size 640x480 with 1 Axes>"
      ]
     },
     "metadata": {},
     "output_type": "display_data"
    },
    {
     "name": "stdout",
     "output_type": "stream",
     "text": [
      "k = 0.3228181818181818\n"
     ]
    }
   ],
   "source": [
    "plt.title(\"Зависимость T(n)\")\n",
    "plt.xlabel(\"n\")\n",
    "plt.ylabel(\"T, с\")\n",
    "\n",
    "x = data1['n, кол-во шариков']\n",
    "y = data1['T, с']\n",
    "\n",
    "fit = np.polyfit(x, y, 1)\n",
    "fit_fn = np.poly1d(fit)\n",
    "\n",
    "plt.plot(x, fit_fn(x))\n",
    "\n",
    "plt.scatter(x, y)\n",
    "plt.grid()\n",
    "plt.show()\n",
    "\n",
    "k = fit[0]\n",
    "print('k =', k)"
   ]
  },
  {
   "attachments": {},
   "cell_type": "markdown",
   "id": "6fe32d57-c614-4b22-9170-e89252f76f3b",
   "metadata": {},
   "source": [
    "Величина горизонтальной составляющей магнитного поля Земли:\n",
    "$$B_h = \\frac{\\pi ^2 md^2}{3k^2P_m} = \\frac{\\pi ^2 * 0,817г * (0,571 см)^2}{3*0.323^2 * 76,8 Эрг/Гс} = 0,0353 \\pm 0.001 \\: Гс$$\n",
    "\n",
    "#### Задание №3 Определение вертикальной составляющей магнитного поля Земли"
   ]
  },
  {
   "cell_type": "code",
   "execution_count": 40,
   "id": "c683d846-bb7b-44e4-a5c9-f6141c9f5db2",
   "metadata": {},
   "outputs": [
    {
     "data": {
      "text/html": [
       "<div>\n",
       "<style scoped>\n",
       "    .dataframe tbody tr th:only-of-type {\n",
       "        vertical-align: middle;\n",
       "    }\n",
       "\n",
       "    .dataframe tbody tr th {\n",
       "        vertical-align: top;\n",
       "    }\n",
       "\n",
       "    .dataframe thead th {\n",
       "        text-align: right;\n",
       "    }\n",
       "</style>\n",
       "<table border=\"1\" class=\"dataframe\">\n",
       "  <thead>\n",
       "    <tr style=\"text-align: right;\">\n",
       "      <th></th>\n",
       "      <th>n, кол-во шаров</th>\n",
       "      <th>m_гр, г</th>\n",
       "      <th>l, см</th>\n",
       "      <th>M, дин*см</th>\n",
       "    </tr>\n",
       "  </thead>\n",
       "  <tbody>\n",
       "    <tr>\n",
       "      <th>0</th>\n",
       "      <td>10</td>\n",
       "      <td>0.201</td>\n",
       "      <td>2.284</td>\n",
       "      <td>449.9</td>\n",
       "    </tr>\n",
       "    <tr>\n",
       "      <th>1</th>\n",
       "      <td>8</td>\n",
       "      <td>0.226</td>\n",
       "      <td>1.713</td>\n",
       "      <td>379.4</td>\n",
       "    </tr>\n",
       "    <tr>\n",
       "      <th>2</th>\n",
       "      <td>6</td>\n",
       "      <td>0.323</td>\n",
       "      <td>1.142</td>\n",
       "      <td>361.5</td>\n",
       "    </tr>\n",
       "    <tr>\n",
       "      <th>3</th>\n",
       "      <td>4</td>\n",
       "      <td>0.391</td>\n",
       "      <td>0.571</td>\n",
       "      <td>218.8</td>\n",
       "    </tr>\n",
       "    <tr>\n",
       "      <th>4</th>\n",
       "      <td>12</td>\n",
       "      <td>0.178</td>\n",
       "      <td>2.855</td>\n",
       "      <td>498.0</td>\n",
       "    </tr>\n",
       "  </tbody>\n",
       "</table>\n",
       "</div>"
      ],
      "text/plain": [
       "   n, кол-во шаров  m_гр, г  l, см  M, дин*см\n",
       "0               10    0.201  2.284      449.9\n",
       "1                8    0.226  1.713      379.4\n",
       "2                6    0.323  1.142      361.5\n",
       "3                4    0.391  0.571      218.8\n",
       "4               12    0.178  2.855      498.0"
      ]
     },
     "execution_count": 40,
     "metadata": {},
     "output_type": "execute_result"
    }
   ],
   "source": [
    "data2 = pd.read_csv('3_1_3_2_.csv')\n",
    "data2"
   ]
  },
  {
   "cell_type": "code",
   "execution_count": 41,
   "id": "a523c912-fead-4255-a898-aa86da197c73",
   "metadata": {},
   "outputs": [
    {
     "data": {
      "image/png": "[encoded data removed]",
      "text/plain": [
       "<Figure size 640x480 with 1 Axes>"
      ]
     },
     "metadata": {},
     "output_type": "display_data"
    },
    {
     "name": "stdout",
     "output_type": "stream",
     "text": [
      "A = 32.34000000000001\n"
     ]
    }
   ],
   "source": [
    "plt.title(\"Зависимость M(n)\")\n",
    "plt.xlabel(\"n\")\n",
    "plt.ylabel(\"M, дин*см\")\n",
    "\n",
    "x = data2['n, кол-во шаров']\n",
    "y = data2['M, дин*см']\n",
    "\n",
    "fit = np.polyfit(x, y, 1)\n",
    "fit_fn = np.poly1d(fit)\n",
    "\n",
    "plt.plot(x, fit_fn(x))\n",
    "\n",
    "plt.scatter(x, y)\n",
    "plt.grid()\n",
    "plt.show()\n",
    "\n",
    "A = fit[0]\n",
    "print('A =', A)"
   ]
  },
  {
   "cell_type": "markdown",
   "id": "da42cc9b-3e76-4812-914d-8efc2e536ab0",
   "metadata": {},
   "source": [
    "$$B_\\upsilon = \\frac{A}{P_m} = \\frac{32,34}{76,8} = 0.421 Гс$$\n",
    "\n",
    "Итоговая индукция магинтного поля Земли $$B = \\sqrt{B_\\upsilon^2 + B_h^2} = \\sqrt{0.0353^2 + 0.421^2} = 0.422 \\pm 0.001 \\: Гс$$\n",
    "Магнитное наклонение $$\\beta = arctg \\frac{B_\\upsilon}{B_h} = arctg \\frac{0.421}{0.0353} = 85.21°$$"
   ]
  },
  {
   "cell_type": "markdown",
   "id": "46a99349-f481-4826-ba4c-8cfa8c88e424",
   "metadata": {},
   "source": [
    "## Выводы\n",
    "В ходе лабораторной работы двумя методами измерили магнитный момент, намагниченность и остаточную магнитную индукцию вещества магнитных шариков: в методе А $P_m = 55,45$ $\\frac{Эрг}{Гс}$, $p_m = 569,13$ $\\frac{Эрг}{Гс*см^3}$, $B_r = 7,148 \\: кГс$, в пункте Б $P_m = 76,8$ $\\frac{Эрг}{Гс}$.\n",
    "\n",
    "Измерили горизонтальную и вертикальную составляющие магнитного поля Земли: $B_h = 0,0353 Гс$, $B_\\upsilon = 0,421 Гс$\n",
    "\n",
    "Итоговая индукция магинтного поля Земли составила 0,422 Гс\n",
    "\n",
    "Магнитное наклонение 85.21° (при широте Долгопрудного 56°)"
   ]
  }
 ],
 "metadata": {
  "kernelspec": {
   "display_name": "Python 3 (ipykernel)",
   "language": "python",
   "name": "python3"
  },
  "language_info": {
   "codemirror_mode": {
    "name": "ipython",
    "version": 3
   },
   "file_extension": ".py",
   "mimetype": "text/x-python",
   "name": "python",
   "nbconvert_exporter": "python",
   "pygments_lexer": "ipython3",
   "version": "3.11.9"
  }
 },
 "nbformat": 4,
 "nbformat_minor": 5
}
