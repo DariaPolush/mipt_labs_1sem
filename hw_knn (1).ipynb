{
 "cells": [
  {
   "cell_type": "markdown",
   "metadata": {
    "copyright": "Материал разработан командой ThetaHat.",
    "id": "7ULHcgYcHBF4"
   },
   "source": [
    "# <a href=\"https://thetahat.ru/\">BioMed@DataScience</a>\n",
    "\n",
    "\n",
    "## Домашнее задание 3\n",
    "\n",
    "**Правила, <font color=\"red\">прочитайте внимательно</font>:**\n",
    "\n",
    "* Выполненную работу нужно отправить телеграм-боту `@thetahat_bmds_bot`. Для начала работы с ботом каждый раз отправляйте `/start`. **Работы, присланные иным способом, не принимаются.**\n",
    "* Дедлайн см. в боте. После дедлайна работы не принимаются кроме случаев наличия уважительной причины.\n",
    "* Прислать нужно ноутбук в формате `ipynb`.\n",
    "* Выполнять задание необходимо полностью самостоятельно. **При обнаружении списывания все участники списывания будут сдавать устный зачет.**\n",
    "* Решения, размещенные на каких-либо интернет-ресурсах, не принимаются. Кроме того, публикация решения в открытом доступе может быть приравнена к предоставлении возможности списать.\n",
    "* Для выполнения задания используйте этот ноутбук в качестве основы, ничего не удаляя из него. Можно добавлять необходимое количество ячеек.\n",
    "* Комментарии к решению пишите в markdown-ячейках.\n",
    "* Выполнение задания (ход решения, выводы и пр.) должно быть осуществлено на русском языке.\n",
    "* Решение проверяется системой ИИ-проверки <a href=\"https://thetahat.ru/\"><img src=\"https://miptstats.github.io/theta_grader_small.png\" style=\"display: inline; vertical-align: middle;\"></a> **ThetaGrader**. Результат проверки валидируется и исправляется человеком, после чего комментарии отправляются студентам.\n",
    "* Если код будет не понятен проверяющему, оценка может быть снижена.\n",
    "* Никакой код из данного задания при проверке запускаться не будет. *Если код студента не выполнен, недописан и т.д., то он не оценивается.*\n",
    "* **Код из рассказанных на занятиях ноутбуков можно использовать без ограничений.**\n",
    "\n",
    "\n",
    "**Правила оформления теоретических задач:**\n",
    "\n",
    "* Решения необходимо прислать одним из следующих способов:\n",
    "  * фотографией в правильной ориентации, где все четко видно, а почерк разборчив,\n",
    "    * отправив ее как файл боту вместе с ноутбуком *или*\n",
    "    * вставив ее в ноутбук посредством `Edit -> Insert Image` (<font color=\"red\">фото, вставленные ссылкой, не принимаются</font>);\n",
    "  * в виде $\\LaTeX$ в markdown-ячейках.\n",
    "* Решения не проверяются, если какое-то требование не выполнено. Особенно внимательно все проверьте в случае выбора второго пункта (вставки фото в ноутбук). <font color=\"red\"><b>Неправильно вставленные фотографии могут не передаться при отправке.</b></font> Для проверки попробуйте переместить `ipynb` в другую папку и открыть его там.\n",
    "* В решениях поясняйте, чем вы пользуетесь, хотя бы кратко. Например, если пользуетесь независимостью, то достаточно подписи вида \"*X и Y незав.*\"\n",
    "* Решение, в котором есть только ответ, и отсутствуют вычисления, оценивается в 0 баллов.\n",
    "\n",
    "**Баллы за задание:**\n",
    "\n",
    "<b><font color=\"blue\">Легкая часть</font></b>:\n",
    "* Задача 1 (90 баллов)\n",
    "* Задача 2 (20 баллов)\n",
    "* Задача 3 (40 баллов)\n",
    "* Задача 4 (30 баллов)\n",
    "\n",
    "<b><font color=\"orange\">Сложная часть</font></b>:\n",
    "* Задача 5 (50 баллов)"
   ]
  },
  {
   "cell_type": "code",
   "execution_count": 69,
   "metadata": {
    "copyright": "Материал разработан командой ThetaHat.",
    "id": "4U2MpLMLFfFo"
   },
   "outputs": [],
   "source": [
    "import pandas as pd\n",
    "import numpy as np\n",
    "import matplotlib.pyplot as plt\n",
    "import seaborn as sns\n",
    "\n",
    "\n",
    "from sklearn import datasets\n",
    "from sklearn.model_selection import train_test_split\n",
    "from sklearn.neighbors import KNeighborsClassifier\n",
    "from sklearn.metrics import accuracy_score\n",
    "\n",
    "from sklearn.preprocessing import MinMaxScaler"
   ]
  },
  {
   "cell_type": "markdown",
   "metadata": {
    "copyright": "Материал разработан командой ThetaHat.",
    "id": "Ov2nWFnVoReB"
   },
   "source": [
    "---\n",
    "## <font color=\"blue\"><i>Легкая часть</i></font>\n",
    "\n",
    "### Задача 1\n",
    "\n",
    "Титаник был крупнейшим пассажирским судном в 1912—1913 годах. Во время первого рейса затонул в северной Атлантике, столкнувшись с айсбергом в ночь с 14 на 15 апреля 1912 года, при этом погибло 1502 из 2224 пассажиров и членов экипажа. Данные о пассажирах были собраны в таблицы, которые можно скачать с <a href=\"https://www.kaggle.com/c/titanic/data\" target=\"_blank\">Kaggle</a>. Эти данные часто используются в качестве обучающих в анализе данных.\n",
    "\n",
    "\n",
    "Загрузите данные с помощью `pandas`."
   ]
  },
  {
   "cell_type": "code",
   "execution_count": 70,
   "metadata": {
    "copyright": "Материал разработан командой ThetaHat.",
    "id": "u3XTF4HQoRsu"
   },
   "outputs": [
    {
     "data": {
      "text/html": [
       "<div>\n",
       "<style scoped>\n",
       "    .dataframe tbody tr th:only-of-type {\n",
       "        vertical-align: middle;\n",
       "    }\n",
       "\n",
       "    .dataframe tbody tr th {\n",
       "        vertical-align: top;\n",
       "    }\n",
       "\n",
       "    .dataframe thead th {\n",
       "        text-align: right;\n",
       "    }\n",
       "</style>\n",
       "<table border=\"1\" class=\"dataframe\">\n",
       "  <thead>\n",
       "    <tr style=\"text-align: right;\">\n",
       "      <th></th>\n",
       "      <th>PassengerId</th>\n",
       "      <th>Survived</th>\n",
       "      <th>Pclass</th>\n",
       "      <th>Name</th>\n",
       "      <th>Sex</th>\n",
       "      <th>Age</th>\n",
       "      <th>SibSp</th>\n",
       "      <th>Parch</th>\n",
       "      <th>Ticket</th>\n",
       "      <th>Fare</th>\n",
       "      <th>Cabin</th>\n",
       "      <th>Embarked</th>\n",
       "    </tr>\n",
       "  </thead>\n",
       "  <tbody>\n",
       "    <tr>\n",
       "      <th>1</th>\n",
       "      <td>2</td>\n",
       "      <td>1</td>\n",
       "      <td>1</td>\n",
       "      <td>Cumings, Mrs. John Bradley (Florence Briggs Th...</td>\n",
       "      <td>female</td>\n",
       "      <td>38.0</td>\n",
       "      <td>1</td>\n",
       "      <td>0</td>\n",
       "      <td>PC 17599</td>\n",
       "      <td>71.2833</td>\n",
       "      <td>C85</td>\n",
       "      <td>C</td>\n",
       "    </tr>\n",
       "    <tr>\n",
       "      <th>3</th>\n",
       "      <td>4</td>\n",
       "      <td>1</td>\n",
       "      <td>1</td>\n",
       "      <td>Futrelle, Mrs. Jacques Heath (Lily May Peel)</td>\n",
       "      <td>female</td>\n",
       "      <td>35.0</td>\n",
       "      <td>1</td>\n",
       "      <td>0</td>\n",
       "      <td>113803</td>\n",
       "      <td>53.1000</td>\n",
       "      <td>C123</td>\n",
       "      <td>S</td>\n",
       "    </tr>\n",
       "    <tr>\n",
       "      <th>6</th>\n",
       "      <td>7</td>\n",
       "      <td>0</td>\n",
       "      <td>1</td>\n",
       "      <td>McCarthy, Mr. Timothy J</td>\n",
       "      <td>male</td>\n",
       "      <td>54.0</td>\n",
       "      <td>0</td>\n",
       "      <td>0</td>\n",
       "      <td>17463</td>\n",
       "      <td>51.8625</td>\n",
       "      <td>E46</td>\n",
       "      <td>S</td>\n",
       "    </tr>\n",
       "    <tr>\n",
       "      <th>10</th>\n",
       "      <td>11</td>\n",
       "      <td>1</td>\n",
       "      <td>3</td>\n",
       "      <td>Sandstrom, Miss. Marguerite Rut</td>\n",
       "      <td>female</td>\n",
       "      <td>4.0</td>\n",
       "      <td>1</td>\n",
       "      <td>1</td>\n",
       "      <td>PP 9549</td>\n",
       "      <td>16.7000</td>\n",
       "      <td>G6</td>\n",
       "      <td>S</td>\n",
       "    </tr>\n",
       "    <tr>\n",
       "      <th>11</th>\n",
       "      <td>12</td>\n",
       "      <td>1</td>\n",
       "      <td>1</td>\n",
       "      <td>Bonnell, Miss. Elizabeth</td>\n",
       "      <td>female</td>\n",
       "      <td>58.0</td>\n",
       "      <td>0</td>\n",
       "      <td>0</td>\n",
       "      <td>113783</td>\n",
       "      <td>26.5500</td>\n",
       "      <td>C103</td>\n",
       "      <td>S</td>\n",
       "    </tr>\n",
       "  </tbody>\n",
       "</table>\n",
       "</div>"
      ],
      "text/plain": [
       "    PassengerId  Survived  Pclass  \\\n",
       "1             2         1       1   \n",
       "3             4         1       1   \n",
       "6             7         0       1   \n",
       "10           11         1       3   \n",
       "11           12         1       1   \n",
       "\n",
       "                                                 Name     Sex   Age  SibSp  \\\n",
       "1   Cumings, Mrs. John Bradley (Florence Briggs Th...  female  38.0      1   \n",
       "3        Futrelle, Mrs. Jacques Heath (Lily May Peel)  female  35.0      1   \n",
       "6                             McCarthy, Mr. Timothy J    male  54.0      0   \n",
       "10                    Sandstrom, Miss. Marguerite Rut  female   4.0      1   \n",
       "11                           Bonnell, Miss. Elizabeth  female  58.0      0   \n",
       "\n",
       "    Parch    Ticket     Fare Cabin Embarked  \n",
       "1       0  PC 17599  71.2833   C85        C  \n",
       "3       0    113803  53.1000  C123        S  \n",
       "6       0     17463  51.8625   E46        S  \n",
       "10      1   PP 9549  16.7000    G6        S  \n",
       "11      0    113783  26.5500  C103        S  "
      ]
     },
     "execution_count": 70,
     "metadata": {},
     "output_type": "execute_result"
    }
   ],
   "source": [
    "titanic = pd.read_csv('train.csv').dropna()\n",
    "titanic.head()"
   ]
  },
  {
   "cell_type": "markdown",
   "metadata": {
    "copyright": "Материал разработан командой ThetaHat.",
    "id": "AQTWh2U-eJth"
   },
   "source": [
    "Для лучшего понимания процесса работы с данными, уточним ключевые термины.\n",
    "\n",
    "> **Объект** — это единица данных, представленная набором признаков и используемая для обучения или предсказаний модели. В данной задаче являются пассажиры, им соответствуют *строки* таблицы данных.\n",
    ">\n",
    "> **Признаки (features)** — это характеристики, которые описывают объекты в данных. В таблицах данных они обычно соответствуют *колонкам*. В данной задаче мы будем работать со следующими признаками\n",
    ">\n",
    "> * `Pclass` — класс билета (1 = первый класс, 2 = второй класс, 3 = третий класс);\n",
    ">\n",
    "> * `Age` — возраст пассажира;\n",
    ">\n",
    "> * `SibSp` — количество братьев, сестер или супругов на борту;\n",
    ">\n",
    "> * `Parch` — количество родителей или детей на борту;\n",
    ">\n",
    "> * `Fare` — стоимость билета.\n",
    ">\n",
    "> **Таргет (target)** — это целевая переменная, которую мы хотим предсказать. В данной задаче мы будем предсказывать `Survived` — бинарная переменная, указывающая, выжил ли пассажир (1) или нет (0). Значения этой переменной имеются для обучающего набора данных, а для тестого — нет.\n",
    "\n",
    "Из каждой части оставим несколько признаков, с которыми мы будем работать, а также отдельно &mdash; целевой признак, который мы хотим предсказать."
   ]
  },
  {
   "cell_type": "code",
   "execution_count": 71,
   "metadata": {
    "copyright": "Материал разработан командой ThetaHat.",
    "id": "1pA6iDn8oRwi"
   },
   "outputs": [],
   "source": [
    "features_columns = ['Pclass', 'Age', 'Sex', 'SibSp', 'Parch', 'Fare']\n",
    "target_column = 'Survived'  # Целевой признак\n",
    "\n",
    "X, y = titanic[features_columns], titanic[target_column]"
   ]
  },
  {
   "cell_type": "markdown",
   "metadata": {
    "copyright": "Материал разработан командой ThetaHat.",
    "id": "bvfsk5Xx5tMx"
   },
   "source": [
    "В данных могут присутствовать пропуски. Пока что мы не умеем с ними работать, так что исключим из данных.\n",
    "\n",
    "Посмотрите, сколько объектов имеют хотя бы один пропуск. Удалите их из данных."
   ]
  },
  {
   "cell_type": "code",
   "execution_count": 77,
   "metadata": {
    "copyright": "Материал разработан командой ThetaHat.",
    "id": "rz5NYRh55rlj"
   },
   "outputs": [],
   "source": [
    "missing_info = titanic[features_columns].isnull().sum()\n",
    "\n",
    "titanic2 = titanic.dropna(subset=features_columns)"
   ]
  },
  {
   "cell_type": "markdown",
   "metadata": {
    "copyright": "Материал разработан командой ThetaHat.",
    "id": "osxYYeFXeSKl"
   },
   "source": [
    "Разделите данные по строкам на две части случайным образом в соотношении 7:3. Первую часть мы будем называть *обучающей*, а вторую &mdash; *тестовой*."
   ]
  },
  {
   "cell_type": "code",
   "execution_count": 73,
   "metadata": {
    "copyright": "Материал разработан командой ThetaHat.",
    "id": "-AcX9JcseSnJ"
   },
   "outputs": [],
   "source": [
    "X = titanic2[features_columns]\n",
    "y = titanic2[target_column]\n",
    "\n",
    "X_train, X_test, y_train, y_test = train_test_split(X, y, test_size=0.3, random_state=42)"
   ]
  },
  {
   "cell_type": "markdown",
   "metadata": {
    "copyright": "Материал разработан командой ThetaHat.",
    "id": "ofn7oGpgCcAI"
   },
   "source": [
    " **1.** **Исследование**\n",
    "\n",
    "\n",
    "> &#x2757; **Внимание.** Эта часть задачи должна выполняться *исключительно на обучающих данных*. За использование тестовых данных решение не будет оценено.\n",
    "\n",
    "Проведите визуальный анализ данных чтобы понять, как различные признаки влияют на целевой. Исследовать можно не целиком обучающие данные, а разделить их на две части по одному из признаков, а далее рассматривать каждую часть отдельно.\n",
    "\n",
    "*Не забывайте про информативность и эстетичность графиков, посмотрите презентацию про оформление домашних заданий.*"
   ]
  },
  {
   "cell_type": "code",
   "execution_count": 74,
   "metadata": {
    "copyright": "Материал разработан командой ThetaHat.",
    "id": "LkIm5g5yChw7"
   },
   "outputs": [
    {
     "data": {
      "image/png": "[encoded data removed]",
      "text/plain": [
       "<Figure size 1500x1500 with 6 Axes>"
      ]
     },
     "metadata": {},
     "output_type": "display_data"
    }
   ],
   "source": [
    "train_data = X_train.copy()\n",
    "train_data['Survived'] = y_train\n",
    "\n",
    "train_data['Survived_Label'] = train_data['Survived'].map({0: 'Не выжил', 1: 'Выжил'})\n",
    "\n",
    "fig, axes = plt.subplots(3, 2, figsize=(15, 15))\n",
    "\n",
    "sns.countplot(data=train_data, x='Pclass', hue='Survived_Label', ax=axes[0,0])\n",
    "axes[0,0].set_title('Распределение и выживаемость по классу билета')\n",
    "axes[0,0].legend(title='')\n",
    "\n",
    "sns.countplot(data=train_data, x='Sex', hue='Survived_Label', ax=axes[0,1])\n",
    "axes[0,1].set_title('Распределение и выживаемость по полу')\n",
    "axes[0,1].legend(title='')\n",
    "\n",
    "sns.histplot(data=train_data, x='Age', hue='Survived_Label', multiple='stack', ax=axes[1,0])\n",
    "axes[1,0].set_title('Распределение и выживаемость по возрасту пассажира')\n",
    "axes[1,0].legend(title='', labels=['Не выжил', 'Выжил'])\n",
    "\n",
    "sns.countplot(data=train_data, x='SibSp', hue='Survived_Label', ax=axes[1,1])\n",
    "axes[1,1].set_title('Распределение и выживаемость по количеству братьев, сестер или супругов на борту')\n",
    "axes[1,1].legend(title='')\n",
    "\n",
    "sns.countplot(data=train_data, x='Parch', hue='Survived_Label', ax=axes[2,0])\n",
    "axes[2,0].set_title('Распределение и выживаемость по количеству родителей или детей на борту')\n",
    "axes[2,0].legend(title='')\n",
    "\n",
    "sns.histplot(data=train_data, x='Fare', hue='Survived_Label', multiple='stack', ax=axes[2,1])\n",
    "axes[2,1].set_title('Распределение и выживаемость по стоимости билета')\n",
    "axes[2,1].legend(title='', labels=['Не выжил', 'Выжил'])\n",
    "\n",
    "plt.tight_layout()\n",
    "plt.show()"
   ]
  },
  {
   "cell_type": "markdown",
   "metadata": {
    "copyright": "Материал разработан командой ThetaHat.",
    "id": "Phh0aDWIBOKO"
   },
   "source": [
    "**2.** **Классификация логическими правилами**\n",
    "\n",
    "На основе выше проведенного исследования предложите два разных правила в виде решающего дерева, пример которого можете посмотреть в презентации с первой лекции (классификация котиков). Никакие статистические методы использовать не требуется, только логику и графики. Любые решения \"из коробки\" использовать запрещено. Например, достаточно пояснения \"*по графику (описание графика) визуально я увидел, что при X > 100 большинство пассажиров выжило, поэтому использую правило (описание правила)*\".\n",
    "\n",
    "В данной задаче достаточно, если первое дерево будет иметь максимальную глубину 2, а второе &mdash; глубину 1, и при этом не является поддеревом первого. Дерево из одного листа имеет глубину 0.\n",
    "\n",
    "*Указание*. Попросите ИИ красиво оформить описание дерева и его пояснение.\n",
    "\n",
    "**Дерево 1:**\n",
    "\n",
    "По графику \"Распределение и выживаемость по полу\" видим, что женщины выживали с вероятностью более 90%. По графику \"Распределение и выживаемость по классу билета\" видим, что пассажиры с 1 и 2 классом с бОльшей вероятностью выживали. По графику \"Распределение и выживаемость по стоимости билета\" видим, что при стоимости менее 100 единиц большинство выживали. По графику \"Распределение и выживаемость по возрасту пассажира\" видим, что наибольшая выживаемость была в возрасте примерно от 29 до 36. На основе этих данных реализуем дерево.\n",
    "\n",
    "**Дерево 2:**\n",
    "\n",
    "Можно заметить, что женщины с большей вероятностью оставались в живых, поэтому во втором дереве реализуем именно это. Это видно из графика \"Распределение и выживаемость по полу\": женщины с вероятностью более 90% остались живы."
   ]
  },
  {
   "cell_type": "markdown",
   "metadata": {
    "copyright": "Материал разработан командой ThetaHat.",
    "id": "Yg3O6JYz4EON"
   },
   "source": [
    "Реализуйте полученные деревья по шаблону"
   ]
  },
  {
   "cell_type": "code",
   "execution_count": 75,
   "metadata": {
    "copyright": "Материал разработан командой ThetaHat.",
    "id": "ovqn-0u0BSsA"
   },
   "outputs": [],
   "source": [
    "def tree1(features):\n",
    "    \"\"\"\n",
    "    Предсказание целевого признака для данных features -- pandas-таблица данных.\n",
    "    Возвращает pandas.Series с теми же индексами, что и у features.\n",
    "    \"\"\"\n",
    "    predicted = pd.Series(index=features.index, dtype=int)\n",
    "    \n",
    "    for idx, row in features.iterrows():\n",
    "        if row['Sex'] == 'female':\n",
    "            if row['Pclass'] in [1, 2]:\n",
    "                predicted[idx] = 1\n",
    "            else:\n",
    "                if row['Fare'] < 100:\n",
    "                    predicted[idx] = 1\n",
    "                else:\n",
    "                    predicted[idx] = 0\n",
    "        else:\n",
    "            if row['Age'] > 29 and row['Age'] < 36:\n",
    "                predicted[idx] = 1\n",
    "            else:\n",
    "                predicted[idx] = 0\n",
    "                \n",
    "    return predicted\n",
    "\n",
    "def tree2(features):\n",
    "    \"\"\"\n",
    "    Предсказание целевого признака для данных features -- pandas-таблица данных.\n",
    "    Возвращает pandas.Series с теми же индексами, что и у features.\n",
    "    \"\"\"\n",
    "    predicted = pd.Series(index=features.index, dtype=int)\n",
    "    \n",
    "    for idx, row in features.iterrows():\n",
    "        if (row['Sex'] == 'female'):\n",
    "            predicted[idx] = 1\n",
    "        else:\n",
    "            predicted[idx] = 0\n",
    "            \n",
    "    return predicted\n"
   ]
  },
  {
   "cell_type": "markdown",
   "metadata": {
    "copyright": "Материал разработан командой ThetaHat.",
    "id": "1AqlNknxF4vL"
   },
   "source": [
    "Проверьте работоспособность данных моделей на тестовой выборке и оцените качество модели по метрике `accuracy`.\n",
    "\n",
    "> &#x2755; *Примечание.* Полученные значения не влияют на оценку по заданию. Оценивается только корректность и обоснованность решения, а также графики и выводы."
   ]
  },
  {
   "cell_type": "code",
   "execution_count": 76,
   "metadata": {
    "copyright": "Материал разработан командой ThetaHat.",
    "id": "_f6OznrD9foG"
   },
   "outputs": [],
   "source": [
    "def accuracy(target, predicted):\n",
    "    \"\"\"\n",
    "    Вычисление критерия качества для предсказания predicted,\n",
    "    если истинные значения -- target.\n",
    "    Возвращает одно вещественное число.\n",
    "    \"\"\"\n",
    "    correct_predictions = (target == predicted).sum()\n",
    "    total_predictions = len(target)\n",
    "    return correct_predictions / total_predictions"
   ]
  },
  {
   "cell_type": "code",
   "execution_count": null,
   "metadata": {
    "copyright": "Материал разработан командой ThetaHat.",
    "id": "yhpCxMFgFrMx"
   },
   "outputs": [],
   "source": []
  },
  {
   "cell_type": "markdown",
   "metadata": {
    "copyright": "Материал разработан командой ThetaHat.",
    "id": "puAaPMQX7P3q"
   },
   "source": [
    "**3.** **Классификация методом ближайшего соседа**\n",
    "\n",
    "В данной части задачи оставим только признаки `'Pclass'`, `'Age'`, `'Sex'`,`'Fare'`.\n",
    "\n",
    "\n",
    "&#x2753; **Вопрос** &#x2753;\n",
    "> Какие могли бы возникнуть проблемы при использовании признаков `'SibSp'`, `'Parch'`? Имеется ли подобная проблема для признака `'Pclass'`?\n",
    "\n",
    "**Ваш ответ:** ..."
   ]
  },
  {
   "cell_type": "markdown",
   "metadata": {
    "copyright": "Материал разработан командой ThetaHat.",
    "id": "SvhX9x7MfneJ"
   },
   "source": [
    "Постройте классификатор методом ближайшего соседа. Обучите его и оцените качество модели. Сравните с предыдущим методом.\n",
    "\n",
    "Пока никаких преобразований данных делать не нужно.\n",
    "\n",
    "\n"
   ]
  },
  {
   "cell_type": "code",
   "execution_count": null,
   "metadata": {
    "copyright": "Материал разработан командой ThetaHat.",
    "id": "VWWVQ2_4fn1q"
   },
   "outputs": [],
   "source": []
  },
  {
   "cell_type": "markdown",
   "metadata": {
    "copyright": "Материал разработан командой ThetaHat.",
    "id": "QpLg-Q6lHcwU"
   },
   "source": [
    "Попробуем улучшить результаты предсказаний, для этого надо сначала посмотреть на сами данные. Выведите значение минимального и максимального объекта для каждого признака."
   ]
  },
  {
   "cell_type": "code",
   "execution_count": null,
   "metadata": {
    "copyright": "Материал разработан командой ThetaHat.",
    "id": "cm-r7Lcafo1a"
   },
   "outputs": [],
   "source": []
  },
  {
   "cell_type": "markdown",
   "metadata": {
    "copyright": "Материал разработан командой ThetaHat.",
    "id": "1i8dxxH3uk9v"
   },
   "source": [
    "Как мы видим, данные в каждом столбце распределены очень по-разному.\n",
    "\n",
    "&#x2753; **Вопрос** &#x2753;\n",
    "> Как это может повлиять на работу kNN, почему?\n",
    "\n",
    "**Ваш ответ:**  ...\n"
   ]
  },
  {
   "cell_type": "markdown",
   "metadata": {
    "copyright": "Материал разработан командой ThetaHat.",
    "id": "GLr8AdnSIG7S"
   },
   "source": [
    "Для решения этой проблемы нужно привести признаки к единому мастштабу. Существует много методов масштабирования рассмотрим работу одиного из них &mdash; **минимаксная нормализация**\n",
    "\n",
    "  \n",
    "> **Минимакс** &mdash; линейное преобразование данных в диапазоне $[0, 1]$, где минимальное и максимальное масштабируемые значения соответствуют 0 и 1 соответственно.\n",
    "> Реализуется оно по следущей формуле:\n",
    ">\n",
    "> $$\\widetilde{x}_{ij} = \\frac{x_{ij} - m_j}{M_j - m_j}$$\n",
    ">\n",
    "> где $x_{ij}$ &mdash; значение признака $j$ для объекта $i$, а $m_j$ и $M_j$ &mdash; минимальное и максимальное значения признака $j$ в обучающем наборе данных.  \n",
    "> В модуле `sklearn.preprocessing` есть [класс](https://scikit-learn.org/stable/modules/generated/sklearn.preprocessing.MinMaxScaler.html) `MinMaxScaler`, который реализует эту операцию. Давайте рассмотрим методы этого класса подробнее:\n",
    ">\n",
    "> * `fit(X)`: вычисляет минимальные и максимальные значения для каждого признака.\n",
    ">\n",
    "> * `transform(X)`: применяет масштабирование к данным.\n",
    ">\n",
    "> * `fit_transform(X)`: объединяет оба метода, сначала подгоняя модель, а затем трансформируя данные.\n",
    ">\n",
    "> * `inverse_transform(X)`: восстанавливает исходные данные из масштабированных.\n",
    "\n",
    "\n",
    "Стоит отметить что существуеют и дргуие методы масштабирования данных."
   ]
  },
  {
   "cell_type": "markdown",
   "metadata": {
    "copyright": "Материал разработан командой ThetaHat.",
    "id": "qGN85R3LusZv"
   },
   "source": [
    "&#x2753; **Вопрос** &#x2753;\n",
    "> В чем может быть недостаток такого метода мастштабирования?\n",
    "\n",
    "**Ваш ответ:** ...\n"
   ]
  },
  {
   "cell_type": "markdown",
   "metadata": {
    "copyright": "Материал разработан командой ThetaHat.",
    "id": "3E--mcozuxRD"
   },
   "source": [
    "\n",
    "\n",
    "Отмасштабируйте данные"
   ]
  },
  {
   "cell_type": "code",
   "execution_count": null,
   "metadata": {
    "copyright": "Материал разработан командой ThetaHat.",
    "id": "iOqCmb18oRz_"
   },
   "outputs": [],
   "source": []
  },
  {
   "cell_type": "markdown",
   "metadata": {
    "copyright": "Материал разработан командой ThetaHat.",
    "id": "2D01wnURo5Ys"
   },
   "source": [
    "Теперь выведите значения максимума и минимума нормализованных признаков. Обратите внимание `MinMaxScaler` возвращается объект в виде `np.ndarray`."
   ]
  },
  {
   "cell_type": "code",
   "execution_count": null,
   "metadata": {
    "copyright": "Материал разработан командой ThetaHat.",
    "id": "8qlsb9SjNE_a"
   },
   "outputs": [],
   "source": []
  },
  {
   "cell_type": "markdown",
   "metadata": {
    "copyright": "Материал разработан командой ThetaHat.",
    "id": "OV7-PW0pIdq6"
   },
   "source": [
    "Обучите модель и сравните результат предсказаний со стандартизацией и без."
   ]
  },
  {
   "cell_type": "code",
   "execution_count": null,
   "metadata": {
    "copyright": "Материал разработан командой ThetaHat.",
    "id": "BLq3asddIdHr"
   },
   "outputs": [],
   "source": []
  },
  {
   "cell_type": "markdown",
   "metadata": {
    "copyright": "Материал разработан командой ThetaHat.",
    "id": "KGCAy2x1plhJ"
   },
   "source": [
    "**Вывод:** ..."
   ]
  },
  {
   "cell_type": "markdown",
   "metadata": {
    "copyright": "Материал разработан командой ThetaHat.",
    "id": "m8foCV7dkzD9"
   },
   "source": [
    "**А можем ли мы как-то еще повысить точность модели?**\n",
    "\n",
    "Как мы видели, параметр $k$ числа соседей является необучаемым т.е. гиперпараметром, который выставляется вручную. Выбор оптимального значения $k$ важен, так как слишком маленькое значение может привести к переобучению, а слишком большое — к недообучению.\n",
    "\n",
    "\n",
    "\n",
    "Постройте график зависимости точности (`accuracy_score`) от значения $k$ (от 1 до 20) для обучающей и тестовой выборок."
   ]
  },
  {
   "cell_type": "code",
   "execution_count": null,
   "metadata": {
    "copyright": "Материал разработан командой ThetaHat.",
    "id": "lWbvYKh1vW9m"
   },
   "outputs": [],
   "source": []
  },
  {
   "cell_type": "markdown",
   "metadata": {
    "copyright": "Материал разработан командой ThetaHat.",
    "id": "jWssEgoXvYQy"
   },
   "source": [
    "**Вывод:**"
   ]
  },
  {
   "cell_type": "markdown",
   "metadata": {
    "copyright": "Материал разработан командой ThetaHat.",
    "id": "6VKl_PIkw3io"
   },
   "source": [
    "### Задача 2\n",
    "\n",
    "На семинаре мы разбирали классификацию изображений на основе kNN. В этом задании мы вернемся к датасету [MNIST](https://scikit-learn.org/stable/modules/generated/sklearn.datasets.load_digits.html) и попробуем улучшить результат, полученный на семинаре.\n",
    "\n",
    "Для начала, загрузите данные и разделите их на обучающую и тестовую части.\n",
    "\n"
   ]
  },
  {
   "cell_type": "code",
   "execution_count": null,
   "metadata": {
    "copyright": "Материал разработан командой ThetaHat.",
    "id": "Lb6MyU-uleIo"
   },
   "outputs": [],
   "source": []
  },
  {
   "cell_type": "markdown",
   "metadata": {
    "copyright": "Материал разработан командой ThetaHat.",
    "id": "mT-r62MNttSF"
   },
   "source": [
    "Число соседей в модели kNN является необучаемым параметром т.е. гиперпараметром который выставляется вручную. Как мы видели на лекции, выбор оптимального значения $k$ важен, так как слишком маленькое значение может привести к переобучению, а слишком большое — к недообучению.\n",
    "\n",
    "Постройте график зависимости точности (`accuracy_score`) предсказания kNN от значения $k$ (от 1 до 20) для обучающей и тестовой выборок."
   ]
  },
  {
   "cell_type": "code",
   "execution_count": null,
   "metadata": {
    "copyright": "Материал разработан командой ThetaHat.",
    "id": "j4UhszICw8Bo"
   },
   "outputs": [],
   "source": []
  },
  {
   "cell_type": "markdown",
   "metadata": {
    "copyright": "Материал разработан командой ThetaHat.",
    "id": "pJiPScaLwmXi"
   },
   "source": [
    "&#x2753; **Вопрос** &#x2753;\n",
    "\n",
    "> Почему при $k = 1$ на тренировочной выборке метрика качества составляет 100%.\n",
    "\n",
    "**Ваш ответ:** ..."
   ]
  },
  {
   "cell_type": "markdown",
   "metadata": {
    "copyright": "Материал разработан командой ThetaHat.",
    "id": "REdGLgdPqEwO"
   },
   "source": [
    "Помимо числа соседей гиперпараметром модели также является *метрика расстояния* между объектами.\n",
    "\n",
    "> По умолчанию используется *Евклидова метрика* ($L_2$), согласно которой расстояние между двумя точками $x_1 =(x_{11}, …, x_{1d})$ и $x_2=(x_{21},…,x_{2n})$ в $d$-мерном пространстве определяется как:\n",
    "$$\\rho(x_1, x_2) = \\sqrt{\\sum^d_{j=1}\\left(x_{1j} - x_{2j}\\right)^2}.$$\n",
    ">\n",
    "> Иногда в kNN имеет смысл использовать другие метрики, например *метрику Манхэттена* ($L_1$).\n",
    "$$\\rho(x_1, x_2) = \\sum^d_{j=1} \\left|x_{1j} - x_{2j}\\right|.$$\n",
    ">\n",
    "> Выбор одной из них зависит от особенностей задачи и данных. В частности,\n",
    ">\n",
    "> * метрика Манхэттена менее чувствительна к выбросам, чем евклидово расстояние, что делает её полезной для данных с сильным шумом или при наличии аномалий;\n",
    ">\n",
    "> * в задачах с разреженными данными (например, текстовые данные, представленные в виде векторов) метрика Манхэттена может работать лучше, чем евклидово расстояние."
   ]
  },
  {
   "cell_type": "markdown",
   "metadata": {
    "copyright": "Материал разработан командой ThetaHat.",
    "id": "4g9hVn2KmKeE"
   },
   "source": [
    "Проведите аналогичный эксперимент используя в качестве гиперпараметра $L_1$-метрику (выясните сами, как ее задать). Выведите на одном графике зависимости точности (accuracy) от значения $k$ для обучающей и тестовой выборок для обоих метрик."
   ]
  },
  {
   "cell_type": "code",
   "execution_count": null,
   "metadata": {
    "copyright": "Материал разработан командой ThetaHat.",
    "id": "z8uEdlnKyTsC"
   },
   "outputs": [],
   "source": []
  },
  {
   "cell_type": "markdown",
   "metadata": {
    "copyright": "Материал разработан командой ThetaHat.",
    "id": "pdv72RC0ggo-"
   },
   "source": [
    "&#x2754; **Вопрос** &#x2754;\n",
    "\n",
    "> Как вы думаете почему смена метрики так сильно повлияла на характер кривых?\n",
    "\n",
    "**Ваш ответ:**"
   ]
  },
  {
   "cell_type": "markdown",
   "metadata": {
    "copyright": "Материал разработан командой ThetaHat.",
    "id": "ADwgvQaE1EOe"
   },
   "source": [
    "**Выводы:**"
   ]
  },
  {
   "cell_type": "markdown",
   "metadata": {
    "copyright": "Материал разработан командой ThetaHat.",
    "id": "u59qQXYBFfFz"
   },
   "source": [
    "### Задача 3\n",
    "\n",
    "Реакция Вассермана позволяет обнаруживать в крови больных сифилисом определенные антитела. Рассмотрим следующую стратегию поиска больных среди группы из n человек. Все обследуемые разбиваются на пары. Если объединенная проба крови не содержит антител, то оба здоровы. В противном случае исследуется кровь первого из них. Если человек здоров, то другой должен быть болен, и в таком случае достаточно двух тестов. Если первый оказался больным, то кровь второго также должна быть подвергнута анализу, и поэтому потребуется три теста. Выясните, при каких значениях вероятности $p$ обнаружения заболевания у отдельного обследуемого данная стратегия будет в среднем экономичнее индивидуальной проверки."
   ]
  },
  {
   "cell_type": "markdown",
   "metadata": {},
   "source": [
    "Индивидуальная проверка даёт нам в любом случае $n$ тестов.\n",
    "\n",
    "Разбив на пары получаем следующее:\n",
    "\n",
    "Вероятность, что оба здоровы: $(1-p)^2$ (1 тест)\n",
    "\n",
    "Вероятность, что первый здоров, второй болен: $(1-p)p$ (2 теста)\n",
    "\n",
    "Вероятность, что второй здоров, первый болен: $p(1-p)$ (3 теста)\n",
    "\n",
    "Вероятность, что оба больны: $p^2$ (3 теста)\n",
    "\n",
    "$$E_{пары} = (1-p)^2 * 1 + (1-p)p * 2 + p(1-p) * 3 + p^2 * 3= (1-p)^2 + 5p(1-p) + 3p^2 = 1 - 2p + p^2 + 5p - 5p^2 + 3p^2 = 1 + 3p - p^2$$\n",
    "\n",
    "Для $n$ человек, т.е. $n/2$ пар: $$E_{общ} = \\frac{n}{2} * (1 + 3p - p^2)$$\n",
    "\n",
    "Найдём, при каких $p$ стратегия с разбивкой на пары экономичнее, чем индивидуальная:\n",
    "$$\\frac{n}{2} * (1 + 3p - p^2) < n$$\n",
    "$$\\frac{1}{2} * (1 + 3p - p^2) < 1$$\n",
    "$$1 + 3p - p^2 < 2$$\n",
    "$$p^2 -3p + 1 > 0$$\n",
    "$$p < \\frac{3 - \\sqrt{5}}{2} \\: или \\: p > \\frac{3 + \\sqrt{5}}{2}$$\n",
    "Вероятность $0 \\le p \\le 1$, поэтому $0 < p < \\frac{3 - \\sqrt{5}}{2}$, т.е. вероятность должна быть ниже 38.2 %\n",
    "\n",
    "**Ответ:** вероятность $p$ должна быть ниже 38.2 %"
   ]
  },
  {
   "cell_type": "markdown",
   "metadata": {
    "copyright": "Материал разработан командой ThetaHat.",
    "id": "rKId7seYFfFz"
   },
   "source": [
    "### Задача 4\n",
    "\n",
    "Время жизни лейкоцита подчиняется показательному распределению с математическим ожиданием 200 часов. Найти вероятность того, что среднее время жизни выборки из 100 лейкоцитов окажется не менее 180 часов."
   ]
  },
  {
   "cell_type": "markdown",
   "metadata": {},
   "source": [
    "Время жизни одного лейкоцита: $X_i \\sim \\text{Exp}(\\lambda)$ \n",
    "\n",
    "Математическое ожидание: $E(X) = \\frac{1}{\\lambda} = 200 \\text{часов}$\n",
    "\n",
    "Отсюда параметр распределения: $\\lambda = \\frac{1}{200}$\n",
    "\n",
    "Дисперсия показательного распределения: $D(X) = \\frac{1}{\\lambda^2} = 200^2 = 40000 \\text{часов}^2$\n",
    "\n",
    "Объем выборки: $n = 100$\n",
    "\n",
    "Нас интересует вероятность:  $P(\\overline{X}_{100} \\ge 180)$ , где  $\\overline{X}_{100}$ — выборочное среднее.\n",
    "\n",
    "Согласно ЦПТ, выборочное среднее  $\\overline{X}_n = \\frac{1}{n}\\sum_{i=1}^{n} X_i$  при большом  $n$  имеет приближенно нормальное распределение\n",
    "\n",
    "Значит дисперсия для среднего значения выборки равна $$\\frac{D(X)}{n} = \\frac{1/λ^2}{n} = \\frac{1 / (1/200)^2}{100} = \\frac{200^2}{100} = \\frac{40000}{100} = 400$$\n",
    "\n",
    "Среднее квадратическое отклонение (стандартная ошибка): $\\sigma_{\\overline{X}} = \\sqrt{400} = 20$\n",
    "\n",
    "Таким образом:\n",
    "$$\\overline{X}_{100} \\sim N(200, 20^2)$$\n",
    "\n",
    "Мы хотим найти  $P(\\overline{X}_{100} \\ge 180)$. Перейдем к стандартному нормальному распределению  $Z \\sim N(0, 1)$\n",
    "\n",
    "$$Z = \\frac{\\overline{X} - E(\\overline{X}))}{\\sigma_{\\overline{X}}} = \\frac{180 - 200}{20} = \\frac{-20}{20} = -1$$\n",
    "\n",
    "Тогда:\n",
    "$$P(\\overline{X}_{100} \\ge 180) = P\\left( \\frac{\\overline{X}_{100} - 200}{20} \\ge \\frac{180 - 200}{20} \\right) = P\\left( Z \\ge -1 \\right)$$\n",
    "\n",
    "Используя таблицы стандартного нормального распределения или калькулятор, находим, что $P(Z < -1) \\approx 0,1587$\n",
    "\n",
    "Следовательно:\n",
    "$$P(Z ≥ -1) ≈ 1 - 0.1587 = 0.8413$$\n",
    "\n",
    "**Ответ:** Вероятность того, что среднее время жизни выборки из 100 лейкоцитов окажется не менее 180 часов, приблизительно равна 0.8413."
   ]
  },
  {
   "cell_type": "markdown",
   "metadata": {
    "copyright": "Материал разработан командой ThetaHat.",
    "id": "UOFp5TfXFfF0"
   },
   "source": [
    "<!-- Внимание! Здесь находится специальная отметка. Ее нельзя удалять! Ответы на вопросы / выводы для предыдущего пункта(ов) пиши в ячейках выше! -->\n",
    "<!-- 00000000000000000000000000000000 -->\n",
    "---\n",
    "## <font color=\"orange\"><i>Сложная часть</i></font>\n",
    "\n",
    "### Задача 5\n",
    "\n",
    "\n",
    "Рассмотрим два молекулярных белка в клетке, каждый из которых подвержен деградации под действием протеаз. Время жизни каждого белка $X_1$ и $X_2$ является случайной величиной, которая подчиняется экспоненциальному распределению с параметром $\\lambda$, что соответствует характерному механизму распада белков в биологических системах.  \n",
    "\n",
    "Обозначим:  \n",
    "- $m = \\min(X_1, X_2)$ — время деградации первого белка, что соответствует скорости разрушения менее стабильного белка.  \n",
    "- $M = \\max(X_1, X_2)$ — время деградации второго белка, которое характеризует устойчивость более долговечного белка.  \n",
    "\n",
    "Найдите математическое ожидание и дисперсию $m$ и $M$.  "
   ]
  },
  {
   "cell_type": "markdown",
   "metadata": {},
   "source": [
    "---\n",
    "© 2025 команда <a href=\"https://thetahat.ru/\">ThetaHat</a> для BioMed@DataScience"
   ]
  }
 ],
 "metadata": {
  "colab": {
   "provenance": []
  },
  "kernelspec": {
   "display_name": "Python 3 (ipykernel)",
   "language": "python",
   "name": "python3"
  },
  "language_info": {
   "codemirror_mode": {
    "name": "ipython",
    "version": 3
   },
   "file_extension": ".py",
   "mimetype": "text/x-python",
   "name": "python",
   "nbconvert_exporter": "python",
   "pygments_lexer": "ipython3",
   "version": "3.11.9"
  }
 },
 "nbformat": 4,
 "nbformat_minor": 4
}
