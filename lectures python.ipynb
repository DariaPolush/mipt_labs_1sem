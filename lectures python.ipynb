{
 "cells": [
  {
   "cell_type": "markdown",
   "id": "f9899918-f98f-4d86-b66d-40af2d80a637",
   "metadata": {},
   "source": [
    "## Лекция 1\n",
    "### База база\n",
    "\n",
    "Типы данных: \n",
    "- int (1_234_567_890 используется для визуального разделения)\n",
    "- float (122.38 = 1.2238E2, E2 = 10^(-2))\n",
    "- bool (True, False)\n",
    "- str\n",
    "- complex (2+3j)"
   ]
  },
  {
   "cell_type": "markdown",
   "id": "7a26af8c-6d9e-418f-88bd-773f24ba0008",
   "metadata": {},
   "source": [
    "a = int(input())\n",
    "\n",
    "b = int(input())\n",
    "\n",
    "c = int(input())\n",
    "\n",
    "*то же самое по-другому:*\n",
    "a, b, c = map(int, input().split())"
   ]
  },
  {
   "cell_type": "code",
   "execution_count": 23,
   "id": "d8da3d99-028f-4400-a48a-f6497c153ec4",
   "metadata": {},
   "outputs": [
    {
     "name": "stdin",
     "output_type": "stream",
     "text": [
      " 2 5 1\n"
     ]
    },
    {
     "name": "stdout",
     "output_type": "stream",
     "text": [
      " x1 = -0.21922359359558485 x2 = -2.2807764064044154\n"
     ]
    }
   ],
   "source": [
    "a, b, c = map(int, input().split())\n",
    "d = b**2 - 4*a*c\n",
    "if d > 0:\n",
    "    print(f' x1 = {(-b + d**0.5)/2/a}'\n",
    "          f' x2 = {(-b - d**0.5)/2/a}')      # f форматирует строку\n",
    "elif d == 0:\n",
    "    print(f'x = {-b/2/a}')\n",
    "else:\n",
    "    print('нет решений')"
   ]
  },
  {
   "cell_type": "markdown",
   "id": "22993d10-cb8b-45a2-9512-ec7edb1c7f5d",
   "metadata": {},
   "source": [
    "#### Циклы\n",
    "***while:***\n",
    "- прервать *break*\n",
    "- проверить условие *continue*\n",
    "\n",
    "***for:***\n",
    "\n",
    "#### print\n",
    "- если хотим напечатать символ (кавычку, скобочку) - ставим \\\n",
    "- \\\\ если надо напечатать \\\n",
    "- \\n, \\r - перенос строки\n",
    "- \\t - табуляция\n",
    "- f'' - форматирование"
   ]
  },
  {
   "cell_type": "code",
   "execution_count": 40,
   "id": "fba18cd1-28eb-433d-b38f-d753d5fb3b4f",
   "metadata": {},
   "outputs": [
    {
     "name": "stdout",
     "output_type": "stream",
     "text": [
      "a+b=7\n",
      "'hello!'\n",
      "'hello!'\n",
      "x = 2, 5, 1\n"
     ]
    }
   ],
   "source": [
    "print(f\"a+b={a+b}\")\n",
    "\n",
    "print('\\'hello!\\'')\n",
    "print(\"'hello!'\")\n",
    "\n",
    "print(f'x = {a}, {b}, {c}')   # печатает с пробелами, как в принте"
   ]
  },
  {
   "cell_type": "markdown",
   "id": "95f044e8-20bb-4d78-9b43-91af69435c6c",
   "metadata": {},
   "source": [
    "## Лекция 4\n",
    "### Функции"
   ]
  },
  {
   "cell_type": "code",
   "execution_count": 3,
   "id": "e2f7cf5c-f89c-4d4d-a7d0-2e271e1f9efc",
   "metadata": {},
   "outputs": [
    {
     "data": {
      "text/plain": [
       "94"
      ]
     },
     "execution_count": 3,
     "metadata": {},
     "output_type": "execute_result"
    }
   ],
   "source": [
    "def max2(x:int, y:int) -> int:\n",
    "    ''' возвращает большее из двух чисел x и  y'''\n",
    "    if x > y:\n",
    "        return x\n",
    "    return y       # можно выкинуть else\n",
    "\n",
    "max2(5, 94)"
   ]
  },
  {
   "cell_type": "markdown",
   "id": "cd61b339-600b-493f-ab2f-dd3a33e003b8",
   "metadata": {},
   "source": [
    "def ...\n",
    "\n",
    "    for ...\n",
    "        for ...\n",
    "            for ...\n",
    "                   return     \n",
    "                   \n",
    "**здесь return выкидывает из ВСЕХ циклов for**"
   ]
  },
  {
   "cell_type": "code",
   "execution_count": 3,
   "id": "912b5c16-aa25-4a1a-833f-d86cf47529a4",
   "metadata": {},
   "outputs": [
    {
     "name": "stdout",
     "output_type": "stream",
     "text": [
      "1 2 3 4 4 8\n"
     ]
    }
   ],
   "source": [
    "a = 1\n",
    "b = 2\n",
    "\n",
    "def foo(a, b, /, c, d=6, *, e=4, f=8):\n",
    "    print(a, b, c, d, e, f)\n",
    "\n",
    "foo(1, 2, 3, 4)\n",
    "\n",
    "# после * нужно обязательно задавать значения в функции"
   ]
  },
  {
   "cell_type": "code",
   "execution_count": null,
   "id": "54124558-71c2-45dc-887c-c658bbe69abc",
   "metadata": {},
   "outputs": [],
   "source": [
    "def is_simple(a:int) -> bool:\n",
    "    ''' Функция возвращает True, еcли число a простое\n",
    "        иначе возвращает False\n",
    "    '''\n",
    "    if type(a) is not int or a < 2:\n",
    "        return False\n",
    "\n",
    "    for i in range(2, a):\n",
    "        if a % i == 0:\n",
    "            return False\n",
    "    return True\n",
    "\n",
    "# в for можно перебирать только 2 и нечетные числа до корня из a\n",
    "print(is_simple(int(input())))"
   ]
  },
  {
   "cell_type": "code",
   "execution_count": null,
   "id": "e5d7ca90-50ab-40f9-93b2-80f83a9cb3dc",
   "metadata": {},
   "outputs": [],
   "source": [
    "def factor(a:int) -> None:\n",
    "    ''' печатает все делители положительного числа a '''\n",
    "    if type(a) is not int or a < 1:\n",
    "        return\n",
    "\n",
    "    d = 2\n",
    "    while d < a:\n",
    "        if a % d == 0:\n",
    "            print(d, end=' ')\n",
    "            a //= d\n",
    "        else:\n",
    "            d += 1\n",
    "    print(a)\n",
    "print(factor(int(input())))"
   ]
  },
  {
   "cell_type": "markdown",
   "id": "6021a709-945a-43eb-a2b3-d53d139bc04a",
   "metadata": {},
   "source": [
    "## Лекция 5\n",
    "### Списки list()"
   ]
  },
  {
   "cell_type": "code",
   "execution_count": 5,
   "id": "5334220d-f33b-4155-a317-8e0742af0a5d",
   "metadata": {},
   "outputs": [
    {
     "name": "stdout",
     "output_type": "stream",
     "text": [
      "[1, 3, 3] [1, 3, 3]\n"
     ]
    }
   ],
   "source": [
    "a = [1, 2, 3]\n",
    "b = a\n",
    "a[1] = 3\n",
    "print(a, b)\n",
    "\n",
    "# в списке b меняется элемент, как и в a"
   ]
  },
  {
   "cell_type": "code",
   "execution_count": 7,
   "id": "58cb6af1-8f0d-41fd-81e2-bb461b5f7842",
   "metadata": {},
   "outputs": [
    {
     "name": "stdout",
     "output_type": "stream",
     "text": [
      "[1, 3, 3] [1, 2, 3]\n"
     ]
    }
   ],
   "source": [
    "a = [1, 2, 3]\n",
    "b = a.copy()\n",
    "a[1] = 3\n",
    "print(a, b)\n",
    "\n",
    "# список b не меняется, если меняется a"
   ]
  },
  {
   "cell_type": "code",
   "execution_count": 6,
   "id": "651f90f7-04d0-43a7-bf8f-404032f1de35",
   "metadata": {},
   "outputs": [
    {
     "name": "stdout",
     "output_type": "stream",
     "text": [
      "[['0', '0', 7], ['0', '0', 7], ['0', '0', 7]]\n"
     ]
    }
   ],
   "source": [
    "a = [['0']*3]*3\n",
    "a[1][2] = 7\n",
    "print(a)"
   ]
  },
  {
   "cell_type": "code",
   "execution_count": 7,
   "id": "1e4ac751-56a7-4799-81e3-27eeaeb7c45c",
   "metadata": {},
   "outputs": [
    {
     "name": "stdout",
     "output_type": "stream",
     "text": [
      "[1]\n",
      "[2]\n",
      "[1, 3]\n"
     ]
    }
   ],
   "source": [
    "def foo(a, b = []):\n",
    "    b.append(a)\n",
    "    return b\n",
    "    \n",
    "print(foo(1))\n",
    "print(foo(2, []))\n",
    "print(foo(3))"
   ]
  },
  {
   "cell_type": "code",
   "execution_count": 8,
   "id": "4d9233a5-61a4-4f38-afb0-cb43d1efbaa3",
   "metadata": {},
   "outputs": [],
   "source": [
    "#так предыдущий код правильнее\n",
    "\n",
    "def foo(a, b = None):\n",
    "    if b is None:\n",
    "        b = []"
   ]
  },
  {
   "cell_type": "code",
   "execution_count": 9,
   "id": "f27a5de7-8ffc-434c-9ef9-4da88df83a60",
   "metadata": {},
   "outputs": [
    {
     "data": {
      "text/plain": [
       "[1, 4, 7, 10, 13]"
      ]
     },
     "execution_count": 9,
     "metadata": {},
     "output_type": "execute_result"
    }
   ],
   "source": [
    "list(range(1, 15, 3))\n",
    "# список из чисел от 1 до 15 с шагом 3"
   ]
  },
  {
   "cell_type": "code",
   "execution_count": 10,
   "id": "19bd721b-1809-43c2-b605-e4d220364dd3",
   "metadata": {},
   "outputs": [],
   "source": [
    "a = [i**2 for i in range(100) if i % 3 == 1]\n",
    "\n",
    "#вместо нескольких строчек:\n",
    "# a = []\n",
    "# for i in range(100):\n",
    "#    if i % 3 == 1:\n",
    "#        a.append(i)"
   ]
  },
  {
   "cell_type": "code",
   "execution_count": 11,
   "id": "85280edc-5824-40a5-b0ab-0f5aa3f79a44",
   "metadata": {},
   "outputs": [
    {
     "data": {
      "text/plain": [
       "[['0', '0', '0'], ['0', '0', '0'], ['0', '0', '0']]"
      ]
     },
     "execution_count": 11,
     "metadata": {},
     "output_type": "execute_result"
    }
   ],
   "source": [
    "a = [['0']*3 for i in range(3)]\n",
    "a"
   ]
  },
  {
   "cell_type": "markdown",
   "id": "13ede03e-c5da-4ebb-a08e-302848c1ceb2",
   "metadata": {},
   "source": [
    "## Операции со списками\n",
    "\n",
    "list.append(x) *добавляет элемент в конец списка*\n",
    "\n",
    "list.insert(i, x) *вставляет на i-тый элемент значение x*\n",
    "\n",
    "list.pop() *удаляет последний элемент и возвращает его*\n",
    "\n",
    "list.pop(i) *удаляет i-ый элемент и возвращает его*\n",
    "\n",
    "list[start:stop:step] *срез*"
   ]
  },
  {
   "cell_type": "code",
   "execution_count": null,
   "id": "7143de02-11cd-47cd-917c-6ebf85932bff",
   "metadata": {},
   "outputs": [],
   "source": [
    "def eratosfen(N:int):\n",
    "    a = []\n",
    "    for i in range(N+1):\n",
    "        a.append(True)\n",
    "    a[0] = a[1] = False\n",
    "    for i in range(4, N+1, 2):\n",
    "        a[i] = False\n",
    "    for i in range(3, N+1, 2):\n",
    "        if a[i]:\n",
    "            for j in range(pow(i, 2), N+1, i):\n",
    "                a[j] = False\n",
    "    for i in range(N+1):\n",
    "        if a[i]:\n",
    "            print(i, end=' ')\n",
    "    return\n",
    "\n",
    "eratosfen(int(input()))"
   ]
  },
  {
   "cell_type": "code",
   "execution_count": 13,
   "id": "99f78383-be0b-470a-9eab-1fc2e84cada7",
   "metadata": {},
   "outputs": [
    {
     "data": {
      "text/plain": [
       "['1', '2', '3', '4', '5']"
      ]
     },
     "execution_count": 13,
     "metadata": {},
     "output_type": "execute_result"
    }
   ],
   "source": [
    "initial_list = '[1, 2, 3, 4, 5]'\n",
    "op = initial_list.strip('][').split(', ')\n",
    "op"
   ]
  },
  {
   "cell_type": "code",
   "execution_count": null,
   "id": "73fba4d0-5ad3-4f3e-9830-d2985a4ee3e9",
   "metadata": {},
   "outputs": [],
   "source": [
    "def pasc(n):\n",
    "    r = [1]\n",
    "    for _ in range(n+1):\n",
    "        print(*r)\n",
    "        k = len(r)\n",
    "        z = []\n",
    "        for i in range(k-1):\n",
    "            z.append(r[i]+r[i+1])\n",
    "        r = [1] + z + [1]\n",
    "        \n",
    "n = int(input())\n",
    "pasc(n)"
   ]
  },
  {
   "cell_type": "markdown",
   "id": "a24f61b2-72e3-4eed-a7fa-b55042b406d7",
   "metadata": {},
   "source": [
    "## Лекции 6-7\n",
    "## Сортировки. Рекурсии."
   ]
  },
  {
   "cell_type": "code",
   "execution_count": null,
   "id": "4d951264-720f-487a-9491-564ea70ed859",
   "metadata": {},
   "outputs": [],
   "source": [
    "# СОРТИРОВКА ВЫБОРОМ\n",
    "\n",
    "arr = [int(s) for s in input().split()]\n",
    "\n",
    "def selection_sort(arr):\n",
    "    for i in range(len(arr)):\n",
    "        minimum = i\n",
    "\n",
    "        for j in range(i+1, len(arr)):\n",
    "            if arr[j] < arr[minimum]:\n",
    "                minimum = j\n",
    "\n",
    "        arr[minimum], arr[i] = arr[i], arr[minimum]\n",
    "\n",
    "        if minimum != i:\n",
    "            print(' '.join(map(str, arr)))\n",
    "\n",
    "selection_sort(arr)"
   ]
  },
  {
   "cell_type": "code",
   "execution_count": null,
   "id": "1497f22b-2157-4ab7-8d78-e26b70e26ff9",
   "metadata": {},
   "outputs": [],
   "source": [
    "# СОРТИРОВКА ВСТАВКОЙ\n",
    "\n",
    "arr = [int(s) for s in input().split()]\n",
    "\n",
    "def insertion_sort(arr):\n",
    "    i = 1\n",
    "    while i < len(arr):\n",
    "        elem = arr[i]\n",
    "        pred = arr[i - 1]\n",
    "        if elem < pred:\n",
    "            arr[i-1], arr[i] = arr[i], arr[i-1]\n",
    "            print(*arr)\n",
    "            i = 1\n",
    "        else:\n",
    "            i += 1\n",
    "            \n",
    "\n",
    "insertion_sort(arr)"
   ]
  },
  {
   "cell_type": "code",
   "execution_count": null,
   "id": "13c82ac1-e14c-45d1-a365-177d83ea1d12",
   "metadata": {},
   "outputs": [],
   "source": [
    "# ГЛУПАЯ СОРТИРОВКА (ДУРАКА)\n",
    "\n",
    "arr = [int(s) for s in input().split()]\n",
    "\n",
    "def bubble_sort(arr):\n",
    "    swapped = True\n",
    "    while swapped:\n",
    "        swapped = False\n",
    "        for i in range(len(arr) - 1):\n",
    "            if arr[i] > arr[i + 1]:\n",
    "                arr[i], arr[i + 1] = arr[i + 1], arr[i]\n",
    "                swapped = True\n",
    "                print(*arr)\n",
    "                break\n",
    "\n",
    "bubble_sort(arr)"
   ]
  },
  {
   "cell_type": "code",
   "execution_count": null,
   "id": "f9166f42-18ba-4aac-8917-f2b285d6f52f",
   "metadata": {},
   "outputs": [],
   "source": [
    "# ПУЗЫРЬКОВАЯ СОРТИРОВКА\n",
    "\n",
    "arr = [int(s) for s in input().split()]\n",
    "\n",
    "def bubble_sort(arr):\n",
    "    #print(*arr)\n",
    "    swapped = True\n",
    "    while swapped:\n",
    "        swapped = False\n",
    "        for i in range(len(arr) - 1):\n",
    "            if arr[i] > arr[i + 1]:\n",
    "                arr[i], arr[i + 1] = arr[i + 1], arr[i]\n",
    "                swapped = True\n",
    "                print(*arr)\n",
    "\n",
    "bubble_sort(arr)"
   ]
  },
  {
   "cell_type": "code",
   "execution_count": null,
   "id": "7270326b-0292-427d-83b3-2846aaf6c014",
   "metadata": {},
   "outputs": [],
   "source": [
    "# СОРТИРОВКА ПОДСЧЁТОМ\n",
    "\n",
    "arr = [int(s) for s in input().split()]\n",
    "\n",
    "def counting_sort(arr):\n",
    "    keys = [0] * 10\n",
    "    for i in range(len(arr)):\n",
    "        s = arr[i]\n",
    "        keys[s] += 1\n",
    "        print(*keys)\n",
    "    for j in range(10):\n",
    "        k = keys[j]\n",
    "        for l in range(k):\n",
    "            print(j, end=' ')\n",
    "        \n",
    "counting_sort(arr)"
   ]
  },
  {
   "cell_type": "code",
   "execution_count": null,
   "id": "48e3b875-317b-4d57-a9e4-1871e14b3a03",
   "metadata": {},
   "outputs": [],
   "source": [
    "# ПОРАЗРЯДНАЯ СОРТИРОВКА\n",
    "\n",
    "arr = [int(s) for s in input().split()]\n",
    "\n",
    "def radix_sort(arr):\n",
    "    \n",
    "    length = len(str(max(arr)))\n",
    "    n = 10\n",
    "    \n",
    "    for i in range(length):\n",
    "        s = [[] for _ in range(n)]\n",
    "\n",
    "        for x in arr:\n",
    "            s[(x//10**i)%n].append(x)\n",
    "        arr = []\n",
    "            \n",
    "        for j in s:\n",
    "            arr.extend(j)\n",
    "        print(*arr)\n",
    "\n",
    "radix_sort(arr)"
   ]
  },
  {
   "cell_type": "code",
   "execution_count": null,
   "id": "5d001d54-4155-400d-a78f-6e640c0c8f3f",
   "metadata": {},
   "outputs": [],
   "source": [
    "# СОРТИРОВКА С БАРЬЕРОМ\n",
    "\n",
    "def qsort(A:list, start=0, stop=None):\n",
    "    if stop is None: stop = len(A) - 1\n",
    "    if stop - start < 1: return\n",
    "    i = start\n",
    "    j = stop\n",
    "    while i<j:\n",
    "        while A[i] < A[stop]: i += 1\n",
    "        while j >= 0 and A[j] >= A[stop]: j -= 1\n",
    "    if i< j: A[i], A[j] = A[j], A[i]\n",
    "    A[i], A[stop] = A[stop], A[i]\n",
    "    qsort(A, start, j)\n",
    "    qsort(A, i+1, stop)\n",
    "\n",
    "qsort(A)"
   ]
  },
  {
   "cell_type": "code",
   "execution_count": null,
   "id": "e7dbe8b0-df73-4298-bbb7-557d2078a0e4",
   "metadata": {},
   "outputs": [],
   "source": [
    "# СОРТИРОВКА СЛИЯНИЕМ\n",
    "\n",
    "def merge_sort(a):\n",
    "    if len(a) < 2: return\n",
    "    n = len(a) // 2\n",
    "    b = a[:n]\n",
    "    c = a[n:]\n",
    "    merge_sort(b)\n",
    "    merge_sort(c)\n",
    "    i = j = k = 0\n",
    "    while i < len(b) and j < len(c):\n",
    "        if b[i] < c[j]:\n",
    "            a[k] = b[i]\n",
    "            i += 1\n",
    "        else:\n",
    "            a[k] = c[j]:\n",
    "            j+= 1\n",
    "        k += 1\n",
    "        \n",
    "    # один из следующих циклов будет пустым\n",
    "    while i < len(b):\n",
    "        a[k] = b[i]\n",
    "        i += 1\n",
    "        k += 1\n",
    "    while j < len(c):\n",
    "        a[k] = c[j]\n",
    "        j += 1\n",
    "        k += 1\n",
    "\n",
    "merge_sort(a)"
   ]
  },
  {
   "cell_type": "markdown",
   "id": "79a84398-bf85-48a3-b3fe-e6801fb5d8e0",
   "metadata": {},
   "source": [
    "**a.sort()** фактически то же самое, что сортировка вставкой + слиянием (merge_sort) "
   ]
  },
  {
   "cell_type": "code",
   "execution_count": null,
   "id": "8aafcccc-6f29-48eb-955c-a08f4e0a2e05",
   "metadata": {},
   "outputs": [],
   "source": [
    "# МЕТОД ПОЛОВИННОГО ДЕЛЕНИЯ\n",
    "\n",
    "## поиск левой границы (правее нее нужный нам элемент)\n",
    "\n",
    "def left_bound(A:list, el) -> int:\n",
    "    a = -1\n",
    "    b = len(A)\n",
    "    while b-a > 1:\n",
    "        c = (a+b)//2\n",
    "        if A[c] >= el: b = c\n",
    "        if A[c] < el: a = c\n",
    "    return a\n",
    "\n",
    "## поиск правой границы (левее нее нужный нам элемент)\n",
    "\n",
    "def right_bound(A:list, el) -> int:\n",
    "    a = -1\n",
    "    b = len(A)\n",
    "    while b-a > 1:\n",
    "        c = (a+b)//2\n",
    "        if A[c] > el: b = c\n",
    "        if A[c] <= el: a = c\n",
    "    return b"
   ]
  },
  {
   "cell_type": "code",
   "execution_count": null,
   "id": "e940f3ef-0071-40cd-a40a-87c7771cbbbe",
   "metadata": {},
   "outputs": [],
   "source": [
    "# найти минимальный размер квадратной доски, на которую влезут k дипломов размеров n*m\n",
    "# нам нужна левая граница + 1\n",
    "\n",
    "def solve_bound(n, m, k) -> int:\n",
    "    a = -1\n",
    "    b = (n+m)*k\n",
    "    while b-a > 1:\n",
    "        c = (a+b)//2\n",
    "        if (c//n) * (c//m) >= k: b=c\n",
    "        if (c//n) * (c//m) < k: a=c\n",
    "    return a+1"
   ]
  },
  {
   "cell_type": "markdown",
   "id": "7ac4ea10-500e-412b-83bd-9a9ebb8f99cd",
   "metadata": {},
   "source": [
    "## Лекция 8\n",
    "## Динамическое программирование\n",
    "\n",
    "~ решение мини задачек и сохранение этих результатов\n",
    "\n",
    "~ рекурсия + проверка, решалась ли уже эта задача и, если да - какой там ответ, если нет - сохранение этого ответа = рекурсия с кэшированием"
   ]
  },
  {
   "cell_type": "code",
   "execution_count": 1,
   "id": "b1e43213-4a38-4fc5-9633-26651f16e011",
   "metadata": {},
   "outputs": [],
   "source": [
    "# кузнечик прыгает по листочкам: или на следующий, или через один\n",
    "# сколькими способами он доберется до n листочка?  ---  f(n) = f(n-1) + f(n-2)\n",
    "# добавим мнимый листочек (0 способов добраться) -> числа Фибоначи"
   ]
  },
  {
   "cell_type": "code",
   "execution_count": 2,
   "id": "64511a62-9bc3-44cd-b082-b0b9f2ef7df3",
   "metadata": {},
   "outputs": [],
   "source": [
    "# рекурсия кэшированием\n",
    "\n",
    "# 1\n",
    "cache = [0, 1]\n",
    "def grass_1(N:int) -> int:\n",
    "    if N < len(cache): return cache[N]\n",
    "    res = grass_1(N-1) + grass_1(N-2)\n",
    "    cache.append(res)\n",
    "    return cache[N]\n",
    "\n",
    "# 2\n",
    "def grass_2(N:int) -> int:\n",
    "    A = [0, 1]\n",
    "    for i in range(2, N+1):\n",
    "        A.append(A[i-1] + A[i-2])\n",
    "    retuurn(A[N])\n",
    "\n",
    "# 3\n",
    "def grass_3(N:int) -> int:\n",
    "    A = [0] * (N+3)\n",
    "    A[1] = 1    \n",
    "    for i in range(1, N):\n",
    "        A[i+1] += A[i]\n",
    "        A[i+2] += A[i]\n",
    "    return A[N]"
   ]
  },
  {
   "cell_type": "code",
   "execution_count": 3,
   "id": "155e2dc0-a45c-4a99-acbf-99954f7cd33b",
   "metadata": {},
   "outputs": [],
   "source": [
    "# Фибоначи\n",
    "\n",
    "def fib(N):\n",
    "    a = b = 1\n",
    "    for i in range(N-2):\n",
    "        a, b = b, a+b\n",
    "    return b"
   ]
  },
  {
   "cell_type": "code",
   "execution_count": 4,
   "id": "57064d1b-885e-4082-a630-aca852867ea0",
   "metadata": {},
   "outputs": [],
   "source": [
    "# задача для ~богатого~ кузнечика: прыгает на следующий или через один, но на каждом листочке есть своя цена за посещение(на 1 p[0], на 2 p[1] и т.д.)\n",
    "# найти самый дешевый путь\n",
    "# f(N) = p[N-1] + min(f(N-1), f(N-2))\n",
    "# путь восстанавливаем в обратном порадке через f(N) - p[N-1]\n",
    "\n",
    "def min_price(price:list) -> list:\n",
    "    ans = [100000000, price[0]]          #цена за нулевой(несуществующий листочек) должна быть большой, чтобы туда кузнечик не пошел\n",
    "    for i in range(2, len(price)+1):\n",
    "        ans.append(p[i-1] + min(ans[i-1], ans[i-2]))\n",
    "    return ans\n",
    "\n",
    "def min_path(price:list) -> list:\n",
    "    min_p = min_price(price)\n",
    "    N = len(price)\n",
    "    ans = [N]\n",
    "    while N != 1:\n",
    "        if min_p[N] - price[N-1] == min_p[N-1]:\n",
    "            N -= 1\n",
    "        else:\n",
    "            N -= 2\n",
    "        ans.append(N)\n",
    "    return ans[::-1]"
   ]
  },
  {
   "cell_type": "code",
   "execution_count": null,
   "id": "c4637b41-0fd9-4625-a935-5ffb552b0c44",
   "metadata": {},
   "outputs": [],
   "source": [
    "# ход короля\n",
    "# шахматная доска, король ходит вправо или вниз\n",
    "# сколько способов добраться из левого верхнего в правый нижний угол\n",
    "# f(i,j) = f(i-1,j) + f(i,j-1)\n",
    "\n",
    "# 1 1 ... 1\n",
    "# 1 2 ...\n",
    "# . .....\n",
    "# 1 ..... f(i,j)\n",
    "\n",
    "def chess(N:int) -> int:\n",
    "    A = [[0] * (N+1) for _ in range(N+1)]\n",
    "    A[0][1] = 1\n",
    "    for i in range(1, N+1):\n",
    "        for j in range(1, N+1):\n",
    "            A[i][j] = A[i-1][j] + A[i][j-1]\n",
    "\n",
    "res = chess(8)\n",
    "for line in res:\n",
    "    print('\\t'.join(map(str, line)))"
   ]
  },
  {
   "cell_type": "markdown",
   "id": "fcf7581d-d971-428d-b466-e3ac5b22a0d6",
   "metadata": {},
   "source": [
    "## Лекция 11\n",
    "### Проверка корректности скобочной последовательности\n",
    "### СТЭК\n",
    "---> помещать в стэк элементы\n",
    "\n",
    "---> забирать из стэка элементы (последний, который положили)\n",
    "\n",
    "--- list\n",
    "\n",
    "### очередь\n",
    "---> помещать в стэк элементы (он встает в очередь)\n",
    "\n",
    "---> забирать из стэка элементы (первый из очереди)\n",
    "\n",
    "### collections - deque \n",
    "--- комбинация стэка и очереди"
   ]
  },
  {
   "cell_type": "code",
   "execution_count": null,
   "id": "60c25d30-89f2-43da-9ec7-0b5446c3027b",
   "metadata": {},
   "outputs": [],
   "source": [
    "stack = []\n",
    "data = input()\n",
    "for c in data:\n",
    "    if c in '([{':\n",
    "        stack.append(c)\n",
    "    if c in ')]}':\n",
    "        if len(stack) == 0: break\n",
    "        if stack.pop() + c not in '()[]{}': break\n",
    "    else:\n",
    "        if len(stack) == 0:\n",
    "            print('OK')"
   ]
  },
  {
   "cell_type": "markdown",
   "id": "4a66b092-40b9-4fe9-9a18-dea53f632cd0",
   "metadata": {},
   "source": [
    "### Обратная польская запись --- без скобочек\n",
    "### 2 + 3 * 5 + 7 * (2 - 4) -----> 2 3 5 * 7 2 4 - * + +"
   ]
  },
  {
   "cell_type": "code",
   "execution_count": null,
   "id": "3f3bc4f8-3392-4227-872f-cca02475e783",
   "metadata": {},
   "outputs": [],
   "source": [
    "def prior(oper):\n",
    "    if oper == '(': return 0\n",
    "    if oper in '+-': return 1\n",
    "    if oper in '*/': return 2\n",
    "    if oper == '^': return 3\n",
    "        \n",
    "def to_pol(s:str):\n",
    "    res = []\n",
    "    stack = []\n",
    "    for a in s.split():\n",
    "        if a == '(':\n",
    "            stack.append(a)\n",
    "        elif a == ')':\n",
    "            b = stack.pop()\n",
    "            while b != '(':\n",
    "                res.append(b)\n",
    "                b = stack.pop()\n",
    "        elif a in '+-*/^':\n",
    "            while len(stack) != 0 and prior(a) <= prior(stack[-1]):\n",
    "                res.append(stack.pop())\n",
    "            stack.append(a)\n",
    "        else:    #a is a number\n",
    "            res.append(float(s))\n",
    "\n",
    "    while len(stack): res.append(stack.pop())\n",
    "    return res\n",
    "\n",
    "def calc(data):\n",
    "    stack = []\n",
    "    for el in data:\n",
    "        if type(el) if float:\n",
    "            stack.append(el)\n",
    "        elif el == '+':\n",
    "            stack.append(stack.pop() + stack.pop())\n",
    "        elif el == '-':\n",
    "            stack.append(- stack.pop() + stack.pop()) \n",
    "        elif el == '*':\n",
    "            stack.append(stack.pop() * stack.pop())\n",
    "        elif el == '/':\n",
    "            stack.append1 / stack.pop() * stack.pop())\n",
    "        elif el == '^':\n",
    "            y = stack.pop()\n",
    "            stack[-1] **= y\n",
    "    return stack[0]"
   ]
  },
  {
   "cell_type": "markdown",
   "id": "d5bca1a4-a6d2-4aa7-b47a-f7fa1f316ed6",
   "metadata": {},
   "source": [
    "## ООП - объектно-ориентированное программирование\n",
    "1) Компьютерные коды\n",
    "2) Ассемблер\n",
    "3) Функциональные языки\n",
    "4) ООП\n",
    "\n",
    "\n",
    "\n",
    "### ООП\n",
    "1) Инкапсуляция\n",
    "2) Наследование\n",
    "3) Полиморфизм\n",
    "\n",
    "\n",
    "1. ***Инкапсуляция*** - механизм, который позволяет скрывать данные внутри\n",
    "2. ***Наследование*** - наследование данных\n",
    "3. ***Полиморфизм*** - возможность использования функции до ее создания\n",
    "\n",
    "\n",
    "\n",
    "---> класс\n",
    "- атрибуты классов\n",
    "- class _name_ (наследником кого он является):\n",
    "- содержимое через Tab\n",
    "\n",
    "---> объект\n",
    "- атрибуты экземпляра\n",
    "- x = um()"
   ]
  },
  {
   "cell_type": "code",
   "execution_count": 2,
   "id": "4fe8cc01-f3bb-41b2-8dce-b199ab847508",
   "metadata": {},
   "outputs": [
    {
     "name": "stdout",
     "output_type": "stream",
     "text": [
      "1 2\n",
      "5 2\n"
     ]
    }
   ],
   "source": [
    "class A:    # A - класс\n",
    "    x = 1\n",
    "    y = 2\n",
    "\n",
    "    def print(self):\n",
    "        print(self.x, self.y)    # self - экземпляр класса, т.е. a\n",
    "\n",
    "if __name__ == '__main__':\n",
    "    a = A()     # a - экземпляр класса\n",
    "    a.print()    \n",
    "    a.x = 5      # a.x += 5 меняет x внутри a\n",
    "                 # A.x += 5 меняет x внутри A\n",
    "    a.print()"
   ]
  },
  {
   "cell_type": "code",
   "execution_count": 3,
   "id": "7073070b-c7f8-4ded-86be-7b6b651c0904",
   "metadata": {},
   "outputs": [
    {
     "name": "stdout",
     "output_type": "stream",
     "text": [
      "Vasya B06-201\n"
     ]
    }
   ],
   "source": [
    "class User:\n",
    "    name = None\n",
    "    group = \"b06-200\"\n",
    "\n",
    "# def __new__\n",
    "\n",
    "    def print(self):\n",
    "        print(self.name, self.group)\n",
    "\n",
    "if __name__ == \"__main__\":\n",
    "    a = User()\n",
    "    a.name = \"Vasya\"\n",
    "    a.group = \"B06-201\"\n",
    "    a.print()"
   ]
  },
  {
   "cell_type": "code",
   "execution_count": 4,
   "id": "2c3dc927-8592-49d4-b853-84d6fbf6ce43",
   "metadata": {},
   "outputs": [
    {
     "name": "stdout",
     "output_type": "stream",
     "text": [
      "Vasya from B06-201\n",
      "Vasya from B06-201\n"
     ]
    }
   ],
   "source": [
    "class User:\n",
    "    # def __new__\n",
    "\n",
    "    def __init__(self, name, group):\n",
    "        self.name = name\n",
    "        self.group = group\n",
    "        \n",
    "    def print(self):\n",
    "        print(self.name, 'from', self.group)\n",
    "\n",
    "if __name__ == \"__main__\":\n",
    "    a = User(\"Vasya\", \"B06-201\")\n",
    "    a.print()    \n",
    "\n",
    "    # последние 2 строчкки можно переписать:\n",
    "    b = User.__new__(User)\n",
    "    User.__init__(b, \"Vasya\", \"B06-201\")\n",
    "    User.print(b)"
   ]
  },
  {
   "cell_type": "code",
   "execution_count": null,
   "id": "f7cbbc60-b05f-43c8-9e0e-a0aca6b99f34",
   "metadata": {},
   "outputs": [],
   "source": [
    "# ИНКАПСУЛЯЦИЯ\n",
    "# скрыть - в имени __ в начале"
   ]
  },
  {
   "cell_type": "code",
   "execution_count": 8,
   "id": "90f975d0-ae19-4ac1-befc-c55f969d5f68",
   "metadata": {},
   "outputs": [],
   "source": [
    "# __new__\n",
    "# __init__ функция запускается, когда появляется экземпляр\n",
    "# __str__ получить строку (преобразование данных)\n",
    "# __int__, __float__, __bool__, __complex__ аналогично\n",
    "# __repr__ преобразование в строку (понятен программисту, а str пользователю))"
   ]
  },
  {
   "cell_type": "code",
   "execution_count": 9,
   "id": "dc99c771-288f-413b-8177-ea4cc9d29ab9",
   "metadata": {},
   "outputs": [
    {
     "name": "stdout",
     "output_type": "stream",
     "text": [
      "(1, 5) (6, 7)\n"
     ]
    }
   ],
   "source": [
    "class Vec:\n",
    "\n",
    "    def __init__(self, x, y):\n",
    "        self.x = x\n",
    "        self.y = y\n",
    "    def __str__(self):\n",
    "        return f'({self.x}, {self.y})'\n",
    "\n",
    "a = Vec(1, 5)\n",
    "b = Vec(6, 7)\n",
    "\n",
    "print(a, b)"
   ]
  },
  {
   "cell_type": "code",
   "execution_count": 10,
   "id": "8e9c6142-17e8-4d76-af56-37426af1f72e",
   "metadata": {},
   "outputs": [
    {
     "name": "stdout",
     "output_type": "stream",
     "text": [
      "(1, 5) (6, 7) (7, 12)\n"
     ]
    }
   ],
   "source": [
    "class Vec:\n",
    "\n",
    "    def __init__(self, x, y):\n",
    "        self.x = x\n",
    "        self.y = y\n",
    "    def __str__(self):\n",
    "        return f'({self.x}, {self.y})'\n",
    "    def add(self, other):\n",
    "        return Vec(self.x + other.x, self.y + other.y)\n",
    "\n",
    "a = Vec(1, 5)\n",
    "b = Vec(6, 7)\n",
    "\n",
    "print(a, b, a.add(b))"
   ]
  },
  {
   "cell_type": "code",
   "execution_count": 11,
   "id": "bc04754b-9686-4769-bb82-045c53b3f77f",
   "metadata": {},
   "outputs": [
    {
     "name": "stdout",
     "output_type": "stream",
     "text": [
      "(1, 5) (6, 7) (7, 12)\n"
     ]
    }
   ],
   "source": [
    "class Vec:\n",
    "\n",
    "    def __init__(self, x, y):\n",
    "        self.x = x\n",
    "        self.y = y\n",
    "    def __str__(self):\n",
    "        return f'({self.x}, {self.y})'\n",
    "    def __add__(self, other):                                 ## !!! добавили __\n",
    "        return Vec(self.x + other.x, self.y + other.y)\n",
    "\n",
    "a = Vec(1, 5)\n",
    "b = Vec(6, 7)\n",
    "\n",
    "print(a, b, a+b)         ## теперь можно писать красиво +"
   ]
  },
  {
   "cell_type": "code",
   "execution_count": null,
   "id": "0242e197-2d24-4f62-a540-8f5920d637b2",
   "metadata": {},
   "outputs": [],
   "source": [
    "# математические функции, которые можно преобразовать __так__\n",
    "\n",
    "# + add,  radd (чтобы self был справа),  iadd\n",
    "# * mul ...\n",
    "# - sub  ...\n",
    "# truediv (обычное деление), divmod (целочисленное), floordiv(остаток)\n",
    "# abs\n",
    "# ceil (взятие целого), floor\n",
    "# eq ==, ne !=, gt >, lt <, ge >=, le <=, rshift >>, lshift <<"
   ]
  },
  {
   "cell_type": "code",
   "execution_count": 16,
   "id": "7bfaac66-0d9e-4b1d-ad06-3f12a030daac",
   "metadata": {},
   "outputs": [
    {
     "name": "stdout",
     "output_type": "stream",
     "text": [
      "-1 2\n",
      "-3 -5\n",
      "3 5\n"
     ]
    }
   ],
   "source": [
    "# НАСЛЕДОВАНИЕ\n",
    "\n",
    "class A:\n",
    "    def __init__(self, x, y):\n",
    "        self.x = x\n",
    "        self.y = y\n",
    "        \n",
    "    def print(self):\n",
    "        print(self.x, self.y)\n",
    "\n",
    "# B - потомок A\n",
    "class B(A):\n",
    "    def __abs__(self):\n",
    "        return B(abs(self.x), abs(self.y))\n",
    "\n",
    "a = A(-1, 2)\n",
    "b = B(-3, -5)\n",
    "\n",
    "a.print()\n",
    "b.print()\n",
    "abs(b).print()"
   ]
  },
  {
   "cell_type": "code",
   "execution_count": 23,
   "id": "8fee4fb6-b382-4b32-b5fb-b831fe9cf96b",
   "metadata": {},
   "outputs": [
    {
     "name": "stdout",
     "output_type": "stream",
     "text": [
      "-1 2\n",
      "-3 -5\n",
      "3 5\n"
     ]
    }
   ],
   "source": [
    "# super - инициализация класса A\n",
    "\n",
    "class A:\n",
    "    def __init__(self, x, y):\n",
    "        self.x = x\n",
    "        self.__y = y\n",
    "        \n",
    "    def print(self):\n",
    "        print(self.x, self.__y)\n",
    "\n",
    "    def get_y(self):\n",
    "        return self.__y\n",
    "\n",
    "class B(A):\n",
    "    def __init__(self, x, y, z):\n",
    "        super().__init__(x, y)\n",
    "        self.z = z\n",
    "    \n",
    "    def __abs__(self):\n",
    "        return B(abs(self.x), abs(self.get_y()), abs(self.z))\n",
    "\n",
    "a = A(-1, 2)\n",
    "b = B(-3, -5, 6)\n",
    "\n",
    "a.print()\n",
    "b.print()\n",
    "abs(b).print()"
   ]
  },
  {
   "cell_type": "code",
   "execution_count": 24,
   "id": "2d7b0b21-51a7-41fb-9ba7-a6acab277108",
   "metadata": {},
   "outputs": [],
   "source": [
    "class A:\n",
    "    def __init__(self, x, y):\n",
    "        self.x = x\n",
    "        self.__y = y\n",
    "        \n",
    "    def print(self):\n",
    "        print(self.x, self.__y)\n",
    "\n",
    "    def get_y(self):\n",
    "        return self.__y\n",
    "\n",
    "    def set_y(self, y):\n",
    "       if y<0: raise ValueError(f\"{y} < 0\")\n",
    "       self.__y = y\n",
    "\n",
    "# y = property(get_y, set_y)\n",
    "\n",
    "    @property\n",
    "    def y(self):\n",
    "        return self.__y\n",
    "\n",
    "    def set_y(self, y):\n",
    "        if y<0: raise ValueError(f\"{y} < 0\")\n",
    "        self.__y = y"
   ]
  },
  {
   "cell_type": "code",
   "execution_count": 33,
   "id": "ba488e97-4e1c-4b5f-aac0-e80ec89a9d37",
   "metadata": {},
   "outputs": [
    {
     "name": "stdout",
     "output_type": "stream",
     "text": [
      "(1, 4)\n",
      "//\n",
      "(1, 4)\n",
      "(0.8660254037844387, 0.49999999999999994)\n",
      "(0.8660254037844387, 0.49999999999999994)\n"
     ]
    }
   ],
   "source": [
    "# строит вектор по координатам\n",
    "\n",
    "class Vec:\n",
    "    def __init__(self, x, y):\n",
    "        self.x = x\n",
    "        self.y = y\n",
    "\n",
    "    def __str__(self):\n",
    "        return f'({self.x}, {self.y})'\n",
    "\n",
    "if __name__ == \"__main__\":\n",
    "    a = Vec(1, 4)\n",
    "    print(a)\n",
    "\n",
    "\n",
    "print('//')\n",
    "\n",
    "# строит единичный вектор по углу\n",
    "\n",
    "import math\n",
    "\n",
    "class Vec:\n",
    "    def __init__(self, x, y):\n",
    "        self.x = x\n",
    "        self.y = y\n",
    "\n",
    "    def __str__(self):\n",
    "        return f'({self.x}, {self.y})'\n",
    "\n",
    "    @staticmethod                                #!!!\n",
    "    def from_angle(angle):\n",
    "        return Vec(math.cos(angle * math.pi / 180), math.sin(angle * math.pi / 180))\n",
    "\n",
    "if __name__ == \"__main__\":\n",
    "    a = Vec(1, 4)\n",
    "    c = Vec.from_angle(30)                        #работает без staticmethod\n",
    "    b = a.from_angle(30)                          #!!!статичный метод, это нужно указать перед def\n",
    "    print(a)\n",
    "    print(c)\n",
    "    print(b)"
   ]
  },
  {
   "cell_type": "markdown",
   "id": "10b52f9a-b413-4e23-960c-11d8a2f98142",
   "metadata": {},
   "source": [
    "## Запись в коде  **@decorator - декоратор**\n",
    "\n",
    "@staticmethod\n",
    "\n",
    "@property"
   ]
  },
  {
   "cell_type": "code",
   "execution_count": 37,
   "id": "eeb2db28-d4e5-4268-a9e8-a2081144bc80",
   "metadata": {},
   "outputs": [
    {
     "name": "stdout",
     "output_type": "stream",
     "text": [
      "alex 148462 100\n"
     ]
    }
   ],
   "source": [
    "import abc\n",
    "import random\n",
    "\n",
    "class UniMember(abc.ABC):\n",
    "    def __init__(self, name):\n",
    "        self.name = name\n",
    "        self.__id = random.randint(0, 1_000_000)\n",
    "\n",
    "    @property\n",
    "    def id(self):\n",
    "        return self.__id\n",
    "\n",
    "    @abc.abstractmethod\n",
    "    def get_salary(self):\n",
    "        return\n",
    "        \n",
    "class Teacher(UniMember):\n",
    "    def get_salary(self):\n",
    "        return 100\n",
    "\n",
    "if __name__ == \"__main__\":\n",
    "    x = Teacher(\"alex\")\n",
    "    print(x.name, x.id, x.get_salary())"
   ]
  },
  {
   "cell_type": "markdown",
   "id": "df1a5ad7-7845-435c-8618-d5c818c3b79c",
   "metadata": {},
   "source": [
    "### Почитать про паттерное программирование\n",
    "### и синглтон (не виски)"
   ]
  },
  {
   "cell_type": "code",
   "execution_count": null,
   "id": "c3e683df-ed84-46ba-a4de-e821dc57da49",
   "metadata": {},
   "outputs": [],
   "source": []
  }
 ],
 "metadata": {
  "kernelspec": {
   "display_name": "Python 3 (ipykernel)",
   "language": "python",
   "name": "python3"
  },
  "language_info": {
   "codemirror_mode": {
    "name": "ipython",
    "version": 3
   },
   "file_extension": ".py",
   "mimetype": "text/x-python",
   "name": "python",
   "nbconvert_exporter": "python",
   "pygments_lexer": "ipython3",
   "version": "3.11.9"
  }
 },
 "nbformat": 4,
 "nbformat_minor": 5
}
